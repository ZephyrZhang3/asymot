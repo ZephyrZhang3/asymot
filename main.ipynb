{
 "cells": [
  {
   "cell_type": "markdown",
   "metadata": {},
   "source": [
    "## 1. Imports\n"
   ]
  },
  {
   "cell_type": "code",
   "execution_count": 1,
   "metadata": {},
   "outputs": [],
   "source": [
    "import sys\n",
    "import gc\n",
    "\n",
    "import torch\n",
    "from torch.utils.data import Subset\n",
    "import torchvision.datasets as datasets\n",
    "import numpy as np\n",
    "from diffusers import DDIMScheduler\n",
    "from torchvision.transforms import Compose, ToTensor, Resize, Normalize\n",
    "from tqdm.notebook import tqdm\n",
    "\n",
    "import matplotlib.pyplot as plt\n",
    "\n",
    "sys.path.append(\"..\")\n",
    "from utils import (\n",
    "    set_random_seed,\n",
    "    get_all_pivotal,\n",
    "    cod_prob_bound,\n",
    "    estimate_cod_prob_bound,\n",
    ")\n",
    "\n",
    "%matplotlib inline "
   ]
  },
  {
   "cell_type": "markdown",
   "metadata": {},
   "source": [
    "## 2. Config\n"
   ]
  },
  {
   "cell_type": "code",
   "execution_count": 2,
   "metadata": {
    "tags": [
     "parameters"
    ]
   },
   "outputs": [],
   "source": [
    "SEED = 0x3060\n",
    "set_random_seed(SEED)\n",
    "\n",
    "# dataset choosing\n",
    "DATASET, DATASET_PATH = \"fmnist2mnist\", \"./data/\"\n",
    "\n",
    "IMG_SIZE = 28\n",
    "\n",
    "# the step number adding noise in diffusion process\n",
    "DIFFUSION_STEPS = 1000\n",
    "PIVOTAL_LIST = [20, 50, 100]\n",
    "\n",
    "# All hyperparameters below is set to the values used for the experiments, which discribed in the article\n",
    "EPSILON = 0.3\n",
    "R = 1000\n",
    "N = 2\n",
    "P = 1\n",
    "\n",
    "\n",
    "# data sample settings\n",
    "SUBSET_CLASS = 3\n",
    "\n",
    "# plot settings\n",
    "GRAY_PLOTS = True"
   ]
  },
  {
   "cell_type": "markdown",
   "metadata": {},
   "source": [
    "## 3. Initialize samplers\n"
   ]
  },
  {
   "cell_type": "code",
   "execution_count": 3,
   "metadata": {},
   "outputs": [],
   "source": [
    "source_transform = Compose(\n",
    "    [\n",
    "        Resize((IMG_SIZE, IMG_SIZE)),\n",
    "        ToTensor(),\n",
    "        Normalize((0.5), (0.5)),\n",
    "    ]\n",
    ")\n",
    "target_transform = source_transform\n",
    "\n",
    "if DATASET == \"fmnist2mnist\":\n",
    "    source = datasets.FashionMNIST\n",
    "    target = datasets.MNIST\n",
    "\n",
    "elif DATASET == \"mnist2fmnist\":\n",
    "    source = datasets.MNIST\n",
    "    target = datasets.FashionMNIST\n",
    "\n",
    "elif DATASET == \"mnist2usps\":\n",
    "    source = datasets.MNIST\n",
    "    target = datasets.USPS\n",
    "\n",
    "elif DATASET == \"usps2mnist\":\n",
    "    source = datasets.USPS\n",
    "    target = datasets.MNIST\n",
    "\n",
    "elif DATASET == \"usps2fmnist\":\n",
    "    source = datasets.USPS\n",
    "    target = datasets.FashionMNIST\n",
    "\n",
    "elif DATASET == \"fmnist2usps\":\n",
    "    source = datasets.FashionMNIST\n",
    "    target = datasets.USPS\n",
    "else:\n",
    "    raise Exception(f\"{DATASET} not support now...\")"
   ]
  },
  {
   "cell_type": "code",
   "execution_count": 4,
   "metadata": {},
   "outputs": [
    {
     "data": {
      "text/plain": [
       "(6000, 6000)"
      ]
     },
     "execution_count": 4,
     "metadata": {},
     "output_type": "execute_result"
    }
   ],
   "source": [
    "source_dataset = source(\n",
    "    root=DATASET_PATH, train=True, download=True, transform=source_transform\n",
    ")\n",
    "target_dataset = target(\n",
    "    root=DATASET_PATH, train=True, download=True, transform=target_transform\n",
    ")\n",
    "\n",
    "source_indices = [\n",
    "    i for i, label in enumerate(source_dataset.targets) if label == SUBSET_CLASS\n",
    "]\n",
    "target_indices = [\n",
    "    i for i, label in enumerate(target_dataset.targets) if label == SUBSET_CLASS\n",
    "]\n",
    "source_indices = source_indices[: min(len(source_indices), len(target_indices))]\n",
    "target_indices = target_indices[: min(len(source_indices), len(target_indices))]\n",
    "\n",
    "\n",
    "source_dataset = Subset(source_dataset, source_indices)\n",
    "target_dataset = Subset(target_dataset, target_indices)\n",
    "\n",
    "len(source_dataset), len(target_dataset)"
   ]
  },
  {
   "cell_type": "code",
   "execution_count": 5,
   "metadata": {},
   "outputs": [
    {
     "data": {
      "image/png": "[encoded data removed]",
      "text/plain": [
       "<Figure size 640x480 with 1 Axes>"
      ]
     },
     "metadata": {},
     "output_type": "display_data"
    }
   ],
   "source": [
    "def plot_data_point(x):\n",
    "    plt.imshow(x.numpy(), cmap=\"gray\")\n",
    "    plt.axis(\"off\")  # 不显示坐标轴\n",
    "    plt.show()\n",
    "\n",
    "\n",
    "plot_data_point(source_dataset[0][0].squeeze(0))"
   ]
  },
  {
   "cell_type": "markdown",
   "metadata": {},
   "source": [
    "### noise adder\n"
   ]
  },
  {
   "cell_type": "code",
   "execution_count": 6,
   "metadata": {},
   "outputs": [],
   "source": [
    "SCHEDULER = DDIMScheduler(num_train_timesteps=DIFFUSION_STEPS)\n",
    "\n",
    "\n",
    "def sample_all_pivotal(X, Y) -> list[torch.Tensor]:\n",
    "    return get_all_pivotal(\n",
    "        X,\n",
    "        Y,\n",
    "        SCHEDULER,\n",
    "        PIVOTAL_LIST,\n",
    "    )"
   ]
  },
  {
   "cell_type": "code",
   "execution_count": 7,
   "metadata": {},
   "outputs": [],
   "source": [
    "def plot_all_pivotal(\n",
    "    source: torch.Tensor,\n",
    "    target: torch.Tensor,\n",
    "    gray: bool = False,\n",
    "):\n",
    "    pivotal_path = sample_all_pivotal(source, target)\n",
    "\n",
    "    imgs: np.ndarray = (\n",
    "        torch.stack(pivotal_path)\n",
    "        .to(\"cpu\")\n",
    "        .permute(0, 2, 3, 1)\n",
    "        .mul(0.5)\n",
    "        .add(0.5)\n",
    "        .numpy()\n",
    "        .clip(0, 1)\n",
    "    )\n",
    "    nrows, ncols = 1, len(pivotal_path)\n",
    "    fig = plt.figure(figsize=(1.5 * ncols, 1.5 * nrows), dpi=150)\n",
    "    for i, img in enumerate(imgs):\n",
    "        ax = fig.add_subplot(nrows, ncols, i + 1)\n",
    "        if gray:\n",
    "            ax.imshow(img, cmap=\"gray\")\n",
    "        else:\n",
    "            ax.imshow(img)\n",
    "        ax.get_yaxis().set_visible(False)\n",
    "        ax.get_xaxis().set_visible(False)\n",
    "        ax.set_yticks([])\n",
    "        ax.set_xticks([])\n",
    "        ax.set_title(f\"$X_{i}$\", fontsize=24)\n",
    "        if i == imgs.shape[0] - 1:\n",
    "            ax.set_title(\"Y\", fontsize=24)\n",
    "\n",
    "    torch.cuda.empty_cache()\n",
    "    gc.collect()"
   ]
  },
  {
   "cell_type": "code",
   "execution_count": 8,
   "metadata": {},
   "outputs": [
    {
     "data": {
      "image/png": "[encoded data removed]",
      "text/plain": [
       "<Figure size 1575x225 with 7 Axes>"
      ]
     },
     "metadata": {},
     "output_type": "display_data"
    }
   ],
   "source": [
    "plot_all_pivotal(\n",
    "    source_dataset[0][0],\n",
    "    target_dataset[0][0],\n",
    "    gray=GRAY_PLOTS,\n",
    ")"
   ]
  },
  {
   "cell_type": "markdown",
   "metadata": {},
   "source": [
    "## 4. Concentration of Distance Probability\n"
   ]
  },
  {
   "cell_type": "code",
   "execution_count": 9,
   "metadata": {},
   "outputs": [
    {
     "data": {
      "image/png": "[encoded data removed]",
      "text/plain": [
       "<Figure size 640x480 with 1 Axes>"
      ]
     },
     "metadata": {},
     "output_type": "display_data"
    }
   ],
   "source": [
    "Q_point = source_dataset[0][0]\n",
    "plot_data_point(Q_point.squeeze())"
   ]
  },
  {
   "cell_type": "code",
   "execution_count": 10,
   "metadata": {},
   "outputs": [
    {
     "name": "stdout",
     "output_type": "stream",
     "text": [
      "n=2 p=1 epsilon=0.3 distance_type='euclidean'\n",
      "RV=np.float32(0.002350549)\n",
      "prob_bound=np.float64(0.7427681069196088)\n",
      "P{DMAX(2)<=(1+0.3)DMIN(2)}>=74.2768%\n"
     ]
    }
   ],
   "source": [
    "prob_bound = cod_prob_bound(\n",
    "    target_dataset,\n",
    "    EPSILON,\n",
    "    Q_point,\n",
    "    \"euclidean\",\n",
    "    N,\n",
    ")\n",
    "\n",
    "print(f\"P{{DMAX({N})<=(1+{EPSILON})DMIN({N})}}>={prob_bound:.4%}\")"
   ]
  },
  {
   "cell_type": "code",
   "execution_count": 11,
   "metadata": {},
   "outputs": [
    {
     "data": {
      "image/png": "[encoded data removed]",
      "text/plain": [
       "<Figure size 640x480 with 1 Axes>"
      ]
     },
     "metadata": {},
     "output_type": "display_data"
    },
    {
     "name": "stdout",
     "output_type": "stream",
     "text": [
      "n=2 r=1000 p=1 epsilon=0.3 distance_type='euclidean'\n",
      "RV=np.float32(0.011053575)\n",
      "prob_bound=np.float64(0.12200773947578952)\n",
      "P{DMAX(2)<=(1+0.3)DMIN(2)}>=12.2008%\n"
     ]
    }
   ],
   "source": [
    "Q_point = source_dataset[666][0]\n",
    "plot_data_point(Q_point.squeeze())\n",
    "\n",
    "estimate_prob_bound = estimate_cod_prob_bound(\n",
    "    target_dataset,\n",
    "    EPSILON,\n",
    "    R,\n",
    "    Q_point,\n",
    "    \"euclidean\",\n",
    "    N,\n",
    ")\n",
    "\n",
    "print(f\"P{{DMAX({N})<=(1+{EPSILON})DMIN({N})}}>={estimate_prob_bound:.4%}\")"
   ]
  },
  {
   "cell_type": "markdown",
   "metadata": {},
   "source": [
    "### TODO:asymptotic distribution prob bound\n"
   ]
  },
  {
   "cell_type": "code",
   "execution_count": 12,
   "metadata": {},
   "outputs": [
    {
     "data": {
      "application/vnd.jupyter.widget-view+json": {
       "model_id": "55462ec3c9284db8ab1af81471279835",
       "version_major": 2,
       "version_minor": 0
      },
      "text/plain": [
       "0it [00:00, ?it/s]"
      ]
     },
     "metadata": {},
     "output_type": "display_data"
    }
   ],
   "source": [
    "path_list = []\n",
    "for (x, _), (y, _) in tqdm(zip(source_dataset, target_dataset)):\n",
    "    path = get_all_pivotal(x, y, SCHEDULER, PIVOTAL_LIST)\n",
    "    path = torch.stack(path)\n",
    "    path_list.append(path)\n",
    "\n",
    "path_list = torch.stack(path_list).transpose(0, 1)"
   ]
  },
  {
   "cell_type": "code",
   "execution_count": 24,
   "metadata": {},
   "outputs": [
    {
     "data": {
      "image/png": "[encoded data removed]",
      "text/plain": [
       "<Figure size 640x480 with 1 Axes>"
      ]
     },
     "metadata": {},
     "output_type": "display_data"
    },
    {
     "name": "stdout",
     "output_type": "stream",
     "text": [
      "n=2 p=1 epsilon=0.3 distance_type='euclidean'\n",
      "RV=np.float32(0.026529213)\n",
      "prob_bound=np.int32(0)\n",
      "t=0 -> t=1: P{DMAX(2)<=(1+0.3)DMIN(2)}>=0.0000%\n",
      "n=2 p=1 epsilon=0.3 distance_type='euclidean'\n",
      "RV=np.float32(0.002521184)\n",
      "prob_bound=np.float64(0.7255809656340142)\n",
      "t=0 -> t=-1: P{DMAX(2)<=(1+0.3)DMIN(2)}>=72.5581%\n"
     ]
    }
   ],
   "source": [
    "Q_point = path_list[0][888]\n",
    "plot_data_point(Q_point.squeeze())\n",
    "\n",
    "prob_bound = cod_prob_bound(\n",
    "    path_list[1],\n",
    "    EPSILON,\n",
    "    Q_point,\n",
    "    \"euclidean\",\n",
    "    N,\n",
    ")\n",
    "print(f\"t=0 -> t=1: P{{DMAX({N})<=(1+{EPSILON})DMIN({N})}}>={prob_bound:.4%}\")\n",
    "\n",
    "\n",
    "prob_bound = cod_prob_bound(\n",
    "    path_list[-1],\n",
    "    EPSILON,\n",
    "    Q_point,\n",
    "    \"euclidean\",\n",
    "    N,\n",
    ")\n",
    "print(f\"t=0 -> t=-1: P{{DMAX({N})<=(1+{EPSILON})DMIN({N})}}>={prob_bound:.4%}\")"
   ]
  },
  {
   "cell_type": "code",
   "execution_count": 26,
   "metadata": {},
   "outputs": [
    {
     "data": {
      "image/png": "[encoded data removed]",
      "text/plain": [
       "<Figure size 640x480 with 1 Axes>"
      ]
     },
     "metadata": {},
     "output_type": "display_data"
    },
    {
     "name": "stdout",
     "output_type": "stream",
     "text": [
      "n=2 r=1000 p=1 epsilon=0.3 distance_type='euclidean'\n",
      "RV=np.float32(0.025740132)\n",
      "prob_bound=np.int32(0)\n",
      "t=0 -> t=1: P{DMAX(2)<=(1+0.3)DMIN(2)}>=0.0000%\n",
      "n=2 r=1000 p=1 epsilon=0.3 distance_type='euclidean'\n",
      "RV=np.float32(0.0027515618)\n",
      "prob_bound=np.float64(0.7010201703189608)\n",
      "t=0 -> t=-1: P{DMAX(2)<=(1+0.3)DMIN(2)}>=70.1020%\n"
     ]
    }
   ],
   "source": [
    "Q_point = path_list[0][888]\n",
    "plot_data_point(Q_point.squeeze())\n",
    "\n",
    "estimate_prob_bound = estimate_cod_prob_bound(\n",
    "    path_list[1],\n",
    "    EPSILON,\n",
    "    R,\n",
    "    Q_point,\n",
    "    \"euclidean\",\n",
    "    N,\n",
    ")\n",
    "print(f\"t=0 -> t=1: P{{DMAX({N})<=(1+{EPSILON})DMIN({N})}}>={estimate_prob_bound:.4%}\")\n",
    "\n",
    "\n",
    "estimate_prob_bound = estimate_cod_prob_bound(\n",
    "    path_list[-1],\n",
    "    EPSILON,\n",
    "    R,\n",
    "    Q_point,\n",
    "    \"euclidean\",\n",
    "    N,\n",
    ")\n",
    "print(f\"t=0 -> t=-1: P{{DMAX({N})<=(1+{EPSILON})DMIN({N})}}>={estimate_prob_bound:.4%}\")"
   ]
  },
  {
   "cell_type": "code",
   "execution_count": null,
   "metadata": {},
   "outputs": [],
   "source": []
  }
 ],
 "metadata": {
  "celltoolbar": "Tags",
  "kernelspec": {
   "display_name": "Python 3 (ipykernel)",
   "language": "python",
   "name": "python3"
  },
  "language_info": {
   "codemirror_mode": {
    "name": "ipython",
    "version": 3
   },
   "file_extension": ".py",
   "mimetype": "text/x-python",
   "name": "python",
   "nbconvert_exporter": "python",
   "pygments_lexer": "ipython3",
   "version": "3.9.21"
  }
 },
 "nbformat": 4,
 "nbformat_minor": 4
}
