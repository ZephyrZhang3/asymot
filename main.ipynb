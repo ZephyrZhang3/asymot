{
 "cells": [
  {
   "cell_type": "markdown",
   "metadata": {},
   "source": [
    "## 1. Imports\n"
   ]
  },
  {
   "cell_type": "code",
   "execution_count": 1,
   "metadata": {},
   "outputs": [],
   "source": [
    "import sys\n",
    "import gc\n",
    "import random\n",
    "\n",
    "import torch\n",
    "from torch.utils.data import Subset\n",
    "import torchvision.datasets as datasets\n",
    "import numpy as np\n",
    "from diffusers import DDIMScheduler\n",
    "from torchvision.transforms import Compose, ToTensor, Resize, Normalize\n",
    "from tqdm.notebook import tqdm\n",
    "\n",
    "import matplotlib.pyplot as plt\n",
    "\n",
    "sys.path.append(\"..\")\n",
    "from utils import (\n",
    "    set_random_seed,\n",
    "    get_ddim_path,\n",
    "    get_flow_path,\n",
    "    get_all_pivotal,\n",
    "    cod_prob_bound,\n",
    ")\n",
    "\n",
    "%matplotlib inline "
   ]
  },
  {
   "cell_type": "markdown",
   "metadata": {},
   "source": [
    "## 2. Config\n"
   ]
  },
  {
   "cell_type": "code",
   "execution_count": 2,
   "metadata": {
    "tags": [
     "parameters"
    ]
   },
   "outputs": [],
   "source": [
    "SEED = 0x4090\n",
    "set_random_seed(SEED)\n",
    "\n",
    "# dataset choosing\n",
    "DATASET, DATASET_PATH = \"fmnist2mnist\", \"./data/\"\n",
    "\n",
    "IMG_SIZE = 28\n",
    "\n",
    "# the step number adding noise in diffusion process\n",
    "DIFFUSION_STEPS = 100\n",
    "SCHEDULER = DDIMScheduler(num_train_timesteps=DIFFUSION_STEPS)\n",
    "# All hyperparameters below is set to the values used for the experiments, which discribed in the article\n",
    "EPSILON = 0.25\n",
    "# R = 1000\n",
    "N = 2\n",
    "P = 1\n",
    "\n",
    "\n",
    "# data sample settings\n",
    "SUBSET_CLASS = 3\n",
    "\n",
    "# plot settings\n",
    "GRAY_PLOTS = True"
   ]
  },
  {
   "cell_type": "markdown",
   "metadata": {},
   "source": [
    "## 3. Initialize samplers\n"
   ]
  },
  {
   "cell_type": "code",
   "execution_count": 3,
   "metadata": {},
   "outputs": [],
   "source": [
    "source_transform = Compose(\n",
    "    [\n",
    "        Resize((IMG_SIZE, IMG_SIZE)),\n",
    "        ToTensor(),\n",
    "        Normalize((0.5), (0.5)),\n",
    "    ]\n",
    ")\n",
    "target_transform = source_transform\n",
    "\n",
    "if DATASET == \"fmnist2mnist\":\n",
    "    source = datasets.FashionMNIST\n",
    "    target = datasets.MNIST\n",
    "else:\n",
    "    raise \"Invalid dataset\""
   ]
  },
  {
   "cell_type": "code",
   "execution_count": 4,
   "metadata": {},
   "outputs": [
    {
     "data": {
      "text/plain": [
       "(6000, 6000)"
      ]
     },
     "execution_count": 4,
     "metadata": {},
     "output_type": "execute_result"
    }
   ],
   "source": [
    "source_dataset = source(\n",
    "    root=DATASET_PATH, train=True, download=True, transform=source_transform\n",
    ")\n",
    "target_dataset = target(\n",
    "    root=DATASET_PATH, train=True, download=True, transform=target_transform\n",
    ")\n",
    "\n",
    "source_indices = [\n",
    "    i for i, label in enumerate(source_dataset.targets) if label == SUBSET_CLASS\n",
    "]\n",
    "target_indices = [\n",
    "    i for i, label in enumerate(target_dataset.targets) if label == SUBSET_CLASS\n",
    "]\n",
    "source_indices = source_indices[: min(len(source_indices), len(target_indices))]\n",
    "target_indices = target_indices[: min(len(source_indices), len(target_indices))]\n",
    "\n",
    "\n",
    "source_dataset = Subset(source_dataset, source_indices)\n",
    "target_dataset = Subset(target_dataset, target_indices)\n",
    "\n",
    "len(source_dataset), len(target_dataset)"
   ]
  },
  {
   "cell_type": "code",
   "execution_count": 5,
   "metadata": {},
   "outputs": [
    {
     "data": {
      "image/png": "[encoded data removed]",
      "text/plain": [
       "<Figure size 640x480 with 1 Axes>"
      ]
     },
     "metadata": {},
     "output_type": "display_data"
    }
   ],
   "source": [
    "def plot_data_point(x):\n",
    "    plt.imshow(x.squeeze().numpy(), cmap=\"gray\")\n",
    "    plt.axis(\"off\")  # 不显示坐标轴\n",
    "    plt.show()\n",
    "\n",
    "\n",
    "plot_data_point(source_dataset[0][0])\n"
   ]
  },
  {
   "cell_type": "code",
   "execution_count": 6,
   "metadata": {},
   "outputs": [],
   "source": [
    "from typing import Union\n",
    "\n",
    "\n",
    "def plot_path(\n",
    "    path: Union[list, torch.Tensor],\n",
    "    gray: bool = False,\n",
    "):\n",
    "    if isinstance(path, list):\n",
    "        path = torch.stack(path)\n",
    "\n",
    "    imgs: np.ndarray = (\n",
    "        path.to(\"cpu\").permute(0, 2, 3, 1).mul(0.5).add(0.5).numpy().clip(0, 1)\n",
    "    )\n",
    "    nrows, ncols = 1, len(path)\n",
    "    fig = plt.figure(figsize=(1.5 * ncols, 1.5 * nrows), dpi=150)\n",
    "    for i, img in enumerate(imgs):\n",
    "        ax = fig.add_subplot(nrows, ncols, i + 1)\n",
    "        if gray:\n",
    "            ax.imshow(img, cmap=\"gray\")\n",
    "        else:\n",
    "            ax.imshow(img)\n",
    "        ax.get_yaxis().set_visible(False)\n",
    "        ax.get_xaxis().set_visible(False)\n",
    "        ax.set_yticks([])\n",
    "        ax.set_xticks([])\n",
    "        ax.set_title(f\"$X_{{{i}}}$\", fontsize=24)\n",
    "        if i == imgs.shape[0] - 1:\n",
    "            ax.set_title(\"Y\", fontsize=24)\n",
    "\n",
    "    torch.cuda.empty_cache()\n",
    "    gc.collect()\n"
   ]
  },
  {
   "cell_type": "markdown",
   "metadata": {},
   "source": [
    "## 4. Concentration of Distance Probability\n"
   ]
  },
  {
   "cell_type": "markdown",
   "metadata": {},
   "source": [
    "### DDIM\n"
   ]
  },
  {
   "cell_type": "markdown",
   "metadata": {},
   "source": [
    "#### MNIST: generate asymptotic distribution\n"
   ]
  },
  {
   "cell_type": "code",
   "execution_count": 7,
   "metadata": {},
   "outputs": [
    {
     "data": {
      "application/vnd.jupyter.widget-view+json": {
       "model_id": "41fc21c11daa460abde55f4d02cfd12b",
       "version_major": 2,
       "version_minor": 0
      },
      "text/plain": [
       "  0%|          | 0/6000 [00:00<?, ?it/s]"
      ]
     },
     "metadata": {},
     "output_type": "display_data"
    }
   ],
   "source": [
    "y_path_list = []\n",
    "for y, _ in tqdm(target_dataset, total=len(target_dataset)):\n",
    "    path = get_ddim_path(y, SCHEDULER)\n",
    "    path = torch.stack(path)\n",
    "    y_path_list.append(path)\n",
    "\n",
    "y_path_list = torch.stack(y_path_list)\n",
    "asymptotic_dataset = y_path_list.transpose(0, 1)\n"
   ]
  },
  {
   "cell_type": "code",
   "execution_count": 8,
   "metadata": {},
   "outputs": [
    {
     "data": {
      "image/png": "[encoded data removed]",
      "text/plain": [
       "<Figure size 1350x225 with 6 Axes>"
      ]
     },
     "metadata": {},
     "output_type": "display_data"
    }
   ],
   "source": [
    "plot_path(\n",
    "    y_path_list[0][[0, 19, 39, 59, 79, 99]],\n",
    "    gray=GRAY_PLOTS,\n",
    ")\n"
   ]
  },
  {
   "cell_type": "markdown",
   "metadata": {},
   "source": [
    "#### MNIST: caculate CoD Prob Bound\n"
   ]
  },
  {
   "cell_type": "code",
   "execution_count": 9,
   "metadata": {},
   "outputs": [
    {
     "name": "stdout",
     "output_type": "stream",
     "text": [
      "t=0 -> t=100: P{DMAX(2)<=(1+0.25)DMIN(2)}>=98.5085%\n"
     ]
    }
   ],
   "source": [
    "Q_point_indices = np.random.choice(y_path_list.shape[0], 100, replace=False)\n",
    "Q_point_dataset = asymptotic_dataset[0][Q_point_indices]\n",
    "T_point_dataset = asymptotic_dataset[-1]\n",
    "\n",
    "prob_bound_list = []\n",
    "for Q_point in Q_point_dataset:\n",
    "    prob_bound = cod_prob_bound(\n",
    "        T_point_dataset,\n",
    "        EPSILON,\n",
    "        Q_point,\n",
    "        \"euclidean\",\n",
    "        N,\n",
    "    )\n",
    "    prob_bound_list.append(prob_bound)\n",
    "prob_bound_list = np.array(prob_bound_list)\n",
    "g2y_prob_bound = prob_bound_list.mean()\n",
    "\n",
    "print(\n",
    "    f\"t={0} -> t={asymptotic_dataset.shape[0]-1}: P{{DMAX({N})<=(1+{EPSILON})DMIN({N})}}>={g2y_prob_bound:.4%}\"\n",
    ")\n"
   ]
  },
  {
   "cell_type": "code",
   "execution_count": 10,
   "metadata": {},
   "outputs": [
    {
     "name": "stdout",
     "output_type": "stream",
     "text": [
      "t=0 -> t=1: P{DMAX(2)<=(1+0.25)DMIN(2)}>=92.0557%\n",
      "t=1 -> t=2: P{DMAX(2)<=(1+0.25)DMIN(2)}>=92.1239%\n",
      "t=2 -> t=3: P{DMAX(2)<=(1+0.25)DMIN(2)}>=92.0920%\n",
      "t=3 -> t=4: P{DMAX(2)<=(1+0.25)DMIN(2)}>=92.1214%\n",
      "t=4 -> t=5: P{DMAX(2)<=(1+0.25)DMIN(2)}>=91.9523%\n",
      "t=5 -> t=6: P{DMAX(2)<=(1+0.25)DMIN(2)}>=92.1124%\n",
      "t=6 -> t=7: P{DMAX(2)<=(1+0.25)DMIN(2)}>=91.9191%\n",
      "t=7 -> t=8: P{DMAX(2)<=(1+0.25)DMIN(2)}>=91.8614%\n",
      "t=8 -> t=9: P{DMAX(2)<=(1+0.25)DMIN(2)}>=91.9644%\n",
      "t=9 -> t=10: P{DMAX(2)<=(1+0.25)DMIN(2)}>=91.9167%\n",
      "t=10 -> t=11: P{DMAX(2)<=(1+0.25)DMIN(2)}>=91.9538%\n",
      "t=11 -> t=12: P{DMAX(2)<=(1+0.25)DMIN(2)}>=91.8999%\n",
      "t=12 -> t=13: P{DMAX(2)<=(1+0.25)DMIN(2)}>=91.8903%\n",
      "t=13 -> t=14: P{DMAX(2)<=(1+0.25)DMIN(2)}>=91.8928%\n",
      "t=14 -> t=15: P{DMAX(2)<=(1+0.25)DMIN(2)}>=91.9242%\n",
      "t=15 -> t=16: P{DMAX(2)<=(1+0.25)DMIN(2)}>=91.8593%\n",
      "t=16 -> t=17: P{DMAX(2)<=(1+0.25)DMIN(2)}>=91.9366%\n",
      "t=17 -> t=18: P{DMAX(2)<=(1+0.25)DMIN(2)}>=91.9409%\n",
      "t=18 -> t=19: P{DMAX(2)<=(1+0.25)DMIN(2)}>=91.7510%\n",
      "t=19 -> t=20: P{DMAX(2)<=(1+0.25)DMIN(2)}>=91.7700%\n",
      "t=20 -> t=21: P{DMAX(2)<=(1+0.25)DMIN(2)}>=91.7160%\n",
      "t=21 -> t=22: P{DMAX(2)<=(1+0.25)DMIN(2)}>=91.7544%\n",
      "t=22 -> t=23: P{DMAX(2)<=(1+0.25)DMIN(2)}>=91.8469%\n",
      "t=23 -> t=24: P{DMAX(2)<=(1+0.25)DMIN(2)}>=91.7675%\n",
      "t=24 -> t=25: P{DMAX(2)<=(1+0.25)DMIN(2)}>=91.6693%\n",
      "t=25 -> t=26: P{DMAX(2)<=(1+0.25)DMIN(2)}>=91.7555%\n",
      "t=26 -> t=27: P{DMAX(2)<=(1+0.25)DMIN(2)}>=91.7043%\n",
      "t=27 -> t=28: P{DMAX(2)<=(1+0.25)DMIN(2)}>=91.7132%\n",
      "t=28 -> t=29: P{DMAX(2)<=(1+0.25)DMIN(2)}>=91.7185%\n",
      "t=29 -> t=30: P{DMAX(2)<=(1+0.25)DMIN(2)}>=91.7316%\n",
      "t=30 -> t=31: P{DMAX(2)<=(1+0.25)DMIN(2)}>=91.6267%\n",
      "t=31 -> t=32: P{DMAX(2)<=(1+0.25)DMIN(2)}>=91.6513%\n",
      "t=32 -> t=33: P{DMAX(2)<=(1+0.25)DMIN(2)}>=91.6856%\n",
      "t=33 -> t=34: P{DMAX(2)<=(1+0.25)DMIN(2)}>=91.5865%\n",
      "t=34 -> t=35: P{DMAX(2)<=(1+0.25)DMIN(2)}>=91.5335%\n",
      "t=35 -> t=36: P{DMAX(2)<=(1+0.25)DMIN(2)}>=91.5791%\n",
      "t=36 -> t=37: P{DMAX(2)<=(1+0.25)DMIN(2)}>=91.5679%\n",
      "t=37 -> t=38: P{DMAX(2)<=(1+0.25)DMIN(2)}>=91.5358%\n",
      "t=38 -> t=39: P{DMAX(2)<=(1+0.25)DMIN(2)}>=91.4911%\n",
      "t=39 -> t=40: P{DMAX(2)<=(1+0.25)DMIN(2)}>=91.5449%\n",
      "t=40 -> t=41: P{DMAX(2)<=(1+0.25)DMIN(2)}>=91.5433%\n",
      "t=41 -> t=42: P{DMAX(2)<=(1+0.25)DMIN(2)}>=91.5013%\n",
      "t=42 -> t=43: P{DMAX(2)<=(1+0.25)DMIN(2)}>=91.3811%\n",
      "t=43 -> t=44: P{DMAX(2)<=(1+0.25)DMIN(2)}>=91.4188%\n",
      "t=44 -> t=45: P{DMAX(2)<=(1+0.25)DMIN(2)}>=91.4056%\n",
      "t=45 -> t=46: P{DMAX(2)<=(1+0.25)DMIN(2)}>=91.4325%\n",
      "t=46 -> t=47: P{DMAX(2)<=(1+0.25)DMIN(2)}>=91.3830%\n",
      "t=47 -> t=48: P{DMAX(2)<=(1+0.25)DMIN(2)}>=91.3898%\n",
      "t=48 -> t=49: P{DMAX(2)<=(1+0.25)DMIN(2)}>=91.4140%\n",
      "t=49 -> t=50: P{DMAX(2)<=(1+0.25)DMIN(2)}>=91.4054%\n",
      "t=50 -> t=51: P{DMAX(2)<=(1+0.25)DMIN(2)}>=91.3654%\n",
      "t=51 -> t=52: P{DMAX(2)<=(1+0.25)DMIN(2)}>=91.3026%\n",
      "t=52 -> t=53: P{DMAX(2)<=(1+0.25)DMIN(2)}>=91.2559%\n",
      "t=53 -> t=54: P{DMAX(2)<=(1+0.25)DMIN(2)}>=91.2622%\n",
      "t=54 -> t=55: P{DMAX(2)<=(1+0.25)DMIN(2)}>=91.2239%\n",
      "t=55 -> t=56: P{DMAX(2)<=(1+0.25)DMIN(2)}>=91.2029%\n",
      "t=56 -> t=57: P{DMAX(2)<=(1+0.25)DMIN(2)}>=91.1648%\n",
      "t=57 -> t=58: P{DMAX(2)<=(1+0.25)DMIN(2)}>=91.0866%\n",
      "t=58 -> t=59: P{DMAX(2)<=(1+0.25)DMIN(2)}>=91.0365%\n",
      "t=59 -> t=60: P{DMAX(2)<=(1+0.25)DMIN(2)}>=91.0187%\n",
      "t=60 -> t=61: P{DMAX(2)<=(1+0.25)DMIN(2)}>=90.9777%\n",
      "t=61 -> t=62: P{DMAX(2)<=(1+0.25)DMIN(2)}>=90.8545%\n",
      "t=62 -> t=63: P{DMAX(2)<=(1+0.25)DMIN(2)}>=90.7742%\n",
      "t=63 -> t=64: P{DMAX(2)<=(1+0.25)DMIN(2)}>=90.5816%\n",
      "t=64 -> t=65: P{DMAX(2)<=(1+0.25)DMIN(2)}>=90.3639%\n",
      "t=65 -> t=66: P{DMAX(2)<=(1+0.25)DMIN(2)}>=90.0364%\n",
      "t=66 -> t=67: P{DMAX(2)<=(1+0.25)DMIN(2)}>=89.6730%\n",
      "t=67 -> t=68: P{DMAX(2)<=(1+0.25)DMIN(2)}>=89.1782%\n",
      "t=68 -> t=69: P{DMAX(2)<=(1+0.25)DMIN(2)}>=88.5053%\n",
      "t=69 -> t=70: P{DMAX(2)<=(1+0.25)DMIN(2)}>=87.7344%\n",
      "t=70 -> t=71: P{DMAX(2)<=(1+0.25)DMIN(2)}>=86.8765%\n",
      "t=71 -> t=72: P{DMAX(2)<=(1+0.25)DMIN(2)}>=85.6586%\n",
      "t=72 -> t=73: P{DMAX(2)<=(1+0.25)DMIN(2)}>=84.1293%\n",
      "t=73 -> t=74: P{DMAX(2)<=(1+0.25)DMIN(2)}>=82.3477%\n",
      "t=74 -> t=75: P{DMAX(2)<=(1+0.25)DMIN(2)}>=80.0091%\n",
      "t=75 -> t=76: P{DMAX(2)<=(1+0.25)DMIN(2)}>=77.2417%\n",
      "t=76 -> t=77: P{DMAX(2)<=(1+0.25)DMIN(2)}>=73.7800%\n",
      "t=77 -> t=78: P{DMAX(2)<=(1+0.25)DMIN(2)}>=69.9135%\n",
      "t=78 -> t=79: P{DMAX(2)<=(1+0.25)DMIN(2)}>=65.4109%\n",
      "t=79 -> t=80: P{DMAX(2)<=(1+0.25)DMIN(2)}>=60.1535%\n",
      "t=80 -> t=81: P{DMAX(2)<=(1+0.25)DMIN(2)}>=54.0097%\n",
      "t=81 -> t=82: P{DMAX(2)<=(1+0.25)DMIN(2)}>=47.5988%\n",
      "t=82 -> t=83: P{DMAX(2)<=(1+0.25)DMIN(2)}>=40.5460%\n",
      "t=83 -> t=84: P{DMAX(2)<=(1+0.25)DMIN(2)}>=33.3461%\n",
      "t=84 -> t=85: P{DMAX(2)<=(1+0.25)DMIN(2)}>=26.2268%\n",
      "t=85 -> t=86: P{DMAX(2)<=(1+0.25)DMIN(2)}>=19.7786%\n",
      "t=86 -> t=87: P{DMAX(2)<=(1+0.25)DMIN(2)}>=14.4568%\n",
      "t=87 -> t=88: P{DMAX(2)<=(1+0.25)DMIN(2)}>=10.2803%\n",
      "t=88 -> t=89: P{DMAX(2)<=(1+0.25)DMIN(2)}>=7.2521%\n",
      "t=89 -> t=90: P{DMAX(2)<=(1+0.25)DMIN(2)}>=5.0912%\n",
      "t=90 -> t=91: P{DMAX(2)<=(1+0.25)DMIN(2)}>=3.6676%\n",
      "t=91 -> t=92: P{DMAX(2)<=(1+0.25)DMIN(2)}>=2.7644%\n",
      "t=92 -> t=93: P{DMAX(2)<=(1+0.25)DMIN(2)}>=2.1306%\n",
      "t=93 -> t=94: P{DMAX(2)<=(1+0.25)DMIN(2)}>=1.7431%\n",
      "t=94 -> t=95: P{DMAX(2)<=(1+0.25)DMIN(2)}>=1.5099%\n",
      "t=95 -> t=96: P{DMAX(2)<=(1+0.25)DMIN(2)}>=1.3179%\n",
      "t=96 -> t=97: P{DMAX(2)<=(1+0.25)DMIN(2)}>=1.2235%\n",
      "t=97 -> t=98: P{DMAX(2)<=(1+0.25)DMIN(2)}>=1.1692%\n",
      "t=98 -> t=99: P{DMAX(2)<=(1+0.25)DMIN(2)}>=1.1343%\n",
      "t=99 -> t=100: P{DMAX(2)<=(1+0.25)DMIN(2)}>=1.1131%\n"
     ]
    }
   ],
   "source": [
    "g2y_ddim_prob_bound_list = []\n",
    "for t in range(asymptotic_dataset.shape[0] - 1):\n",
    "    Q_point_dataset = asymptotic_dataset[t][Q_point_indices]\n",
    "    T_point_dataset = asymptotic_dataset[t + 1]\n",
    "\n",
    "    # plot_data_point(Q_point)\n",
    "    prob_bound_list = []\n",
    "    for Q_point in Q_point_dataset:\n",
    "        prob_bound = cod_prob_bound(\n",
    "            T_point_dataset,\n",
    "            EPSILON,\n",
    "            Q_point,\n",
    "            \"euclidean\",\n",
    "            N,\n",
    "        )\n",
    "        prob_bound_list.append(prob_bound)\n",
    "    prob_bound_list = np.array(prob_bound_list)\n",
    "    prob_bound = prob_bound_list.mean()\n",
    "    print(f\"t={t} -> t={t+1}: P{{DMAX({N})<=(1+{EPSILON})DMIN({N})}}>={prob_bound:.4%}\")\n",
    "\n",
    "    g2y_ddim_prob_bound_list.append(prob_bound)\n"
   ]
  },
  {
   "cell_type": "markdown",
   "metadata": {},
   "source": [
    "#### FMNIST: generate asymptotic distribution\n"
   ]
  },
  {
   "cell_type": "code",
   "execution_count": 11,
   "metadata": {},
   "outputs": [
    {
     "data": {
      "application/vnd.jupyter.widget-view+json": {
       "model_id": "1c50e3eef1914ccf855e67d005e1c416",
       "version_major": 2,
       "version_minor": 0
      },
      "text/plain": [
       "  0%|          | 0/6000 [00:00<?, ?it/s]"
      ]
     },
     "metadata": {},
     "output_type": "display_data"
    }
   ],
   "source": [
    "x_path_list = []\n",
    "for x, _ in tqdm(source_dataset, total=len(source_dataset)):\n",
    "    path = get_ddim_path(x, SCHEDULER, reverse=False)\n",
    "    path = torch.stack(path)\n",
    "    x_path_list.append(path)\n",
    "\n",
    "x_path_list = torch.stack(x_path_list)\n",
    "x_asymptotic_dataset = x_path_list.transpose(0, 1)\n"
   ]
  },
  {
   "cell_type": "code",
   "execution_count": 12,
   "metadata": {},
   "outputs": [
    {
     "data": {
      "image/png": "[encoded data removed]",
      "text/plain": [
       "<Figure size 1350x225 with 6 Axes>"
      ]
     },
     "metadata": {},
     "output_type": "display_data"
    }
   ],
   "source": [
    "plot_path(\n",
    "    x_path_list[0][[0, 19, 39, 59, 79, 99]],\n",
    "    gray=GRAY_PLOTS,\n",
    ")\n"
   ]
  },
  {
   "cell_type": "markdown",
   "metadata": {},
   "source": [
    "#### FMNIST: caculate CoD Prob Bound\n"
   ]
  },
  {
   "cell_type": "code",
   "execution_count": 13,
   "metadata": {},
   "outputs": [
    {
     "name": "stdout",
     "output_type": "stream",
     "text": [
      "t=0 -> t=100: P{DMAX(2)<=(1+0.25)DMIN(2)}>=98.4918%\n"
     ]
    }
   ],
   "source": [
    "Q_point_indices = np.random.choice(x_path_list.shape[0], 100, replace=False)\n",
    "Q_point_dataset = asymptotic_dataset[0][Q_point_indices]\n",
    "T_point_dataset = asymptotic_dataset[-1]\n",
    "\n",
    "prob_bound_list = []\n",
    "for Q_point in Q_point_dataset:\n",
    "    prob_bound = cod_prob_bound(\n",
    "        T_point_dataset,\n",
    "        EPSILON,\n",
    "        Q_point,\n",
    "        \"euclidean\",\n",
    "        N,\n",
    "    )\n",
    "    prob_bound_list.append(prob_bound)\n",
    "prob_bound_list = np.array(prob_bound_list)\n",
    "x2g_prob_bound = prob_bound_list.mean()\n",
    "\n",
    "print(\n",
    "    f\"t={0} -> t={asymptotic_dataset.shape[0]-1}: P{{DMAX({N})<=(1+{EPSILON})DMIN({N})}}>={x2g_prob_bound:.4%}\"\n",
    ")\n"
   ]
  },
  {
   "cell_type": "code",
   "execution_count": 14,
   "metadata": {},
   "outputs": [
    {
     "name": "stdout",
     "output_type": "stream",
     "text": [
      "t=0 -> t=1: P{DMAX(2)<=(1+0.25)DMIN(2)}>=92.0669%\n",
      "t=1 -> t=2: P{DMAX(2)<=(1+0.25)DMIN(2)}>=92.0863%\n",
      "t=2 -> t=3: P{DMAX(2)<=(1+0.25)DMIN(2)}>=92.0759%\n",
      "t=3 -> t=4: P{DMAX(2)<=(1+0.25)DMIN(2)}>=92.0805%\n",
      "t=4 -> t=5: P{DMAX(2)<=(1+0.25)DMIN(2)}>=91.9357%\n",
      "t=5 -> t=6: P{DMAX(2)<=(1+0.25)DMIN(2)}>=92.1281%\n",
      "t=6 -> t=7: P{DMAX(2)<=(1+0.25)DMIN(2)}>=91.9378%\n",
      "t=7 -> t=8: P{DMAX(2)<=(1+0.25)DMIN(2)}>=91.8894%\n",
      "t=8 -> t=9: P{DMAX(2)<=(1+0.25)DMIN(2)}>=91.9324%\n",
      "t=9 -> t=10: P{DMAX(2)<=(1+0.25)DMIN(2)}>=91.9015%\n",
      "t=10 -> t=11: P{DMAX(2)<=(1+0.25)DMIN(2)}>=91.9228%\n",
      "t=11 -> t=12: P{DMAX(2)<=(1+0.25)DMIN(2)}>=91.8883%\n",
      "t=12 -> t=13: P{DMAX(2)<=(1+0.25)DMIN(2)}>=91.9108%\n",
      "t=13 -> t=14: P{DMAX(2)<=(1+0.25)DMIN(2)}>=91.9140%\n",
      "t=14 -> t=15: P{DMAX(2)<=(1+0.25)DMIN(2)}>=91.9514%\n",
      "t=15 -> t=16: P{DMAX(2)<=(1+0.25)DMIN(2)}>=91.8558%\n",
      "t=16 -> t=17: P{DMAX(2)<=(1+0.25)DMIN(2)}>=91.8975%\n",
      "t=17 -> t=18: P{DMAX(2)<=(1+0.25)DMIN(2)}>=91.9025%\n",
      "t=18 -> t=19: P{DMAX(2)<=(1+0.25)DMIN(2)}>=91.7593%\n",
      "t=19 -> t=20: P{DMAX(2)<=(1+0.25)DMIN(2)}>=91.7776%\n",
      "t=20 -> t=21: P{DMAX(2)<=(1+0.25)DMIN(2)}>=91.7311%\n",
      "t=21 -> t=22: P{DMAX(2)<=(1+0.25)DMIN(2)}>=91.7310%\n",
      "t=22 -> t=23: P{DMAX(2)<=(1+0.25)DMIN(2)}>=91.8390%\n",
      "t=23 -> t=24: P{DMAX(2)<=(1+0.25)DMIN(2)}>=91.7699%\n",
      "t=24 -> t=25: P{DMAX(2)<=(1+0.25)DMIN(2)}>=91.6500%\n",
      "t=25 -> t=26: P{DMAX(2)<=(1+0.25)DMIN(2)}>=91.7203%\n",
      "t=26 -> t=27: P{DMAX(2)<=(1+0.25)DMIN(2)}>=91.6918%\n",
      "t=27 -> t=28: P{DMAX(2)<=(1+0.25)DMIN(2)}>=91.7270%\n",
      "t=28 -> t=29: P{DMAX(2)<=(1+0.25)DMIN(2)}>=91.7133%\n",
      "t=29 -> t=30: P{DMAX(2)<=(1+0.25)DMIN(2)}>=91.7039%\n",
      "t=30 -> t=31: P{DMAX(2)<=(1+0.25)DMIN(2)}>=91.6170%\n",
      "t=31 -> t=32: P{DMAX(2)<=(1+0.25)DMIN(2)}>=91.6517%\n",
      "t=32 -> t=33: P{DMAX(2)<=(1+0.25)DMIN(2)}>=91.6680%\n",
      "t=33 -> t=34: P{DMAX(2)<=(1+0.25)DMIN(2)}>=91.5810%\n",
      "t=34 -> t=35: P{DMAX(2)<=(1+0.25)DMIN(2)}>=91.5425%\n",
      "t=35 -> t=36: P{DMAX(2)<=(1+0.25)DMIN(2)}>=91.5465%\n",
      "t=36 -> t=37: P{DMAX(2)<=(1+0.25)DMIN(2)}>=91.5349%\n",
      "t=37 -> t=38: P{DMAX(2)<=(1+0.25)DMIN(2)}>=91.5443%\n",
      "t=38 -> t=39: P{DMAX(2)<=(1+0.25)DMIN(2)}>=91.4930%\n",
      "t=39 -> t=40: P{DMAX(2)<=(1+0.25)DMIN(2)}>=91.5700%\n",
      "t=40 -> t=41: P{DMAX(2)<=(1+0.25)DMIN(2)}>=91.5819%\n",
      "t=41 -> t=42: P{DMAX(2)<=(1+0.25)DMIN(2)}>=91.5106%\n",
      "t=42 -> t=43: P{DMAX(2)<=(1+0.25)DMIN(2)}>=91.4005%\n",
      "t=43 -> t=44: P{DMAX(2)<=(1+0.25)DMIN(2)}>=91.4059%\n",
      "t=44 -> t=45: P{DMAX(2)<=(1+0.25)DMIN(2)}>=91.3915%\n",
      "t=45 -> t=46: P{DMAX(2)<=(1+0.25)DMIN(2)}>=91.4245%\n",
      "t=46 -> t=47: P{DMAX(2)<=(1+0.25)DMIN(2)}>=91.3738%\n",
      "t=47 -> t=48: P{DMAX(2)<=(1+0.25)DMIN(2)}>=91.3903%\n",
      "t=48 -> t=49: P{DMAX(2)<=(1+0.25)DMIN(2)}>=91.3969%\n",
      "t=49 -> t=50: P{DMAX(2)<=(1+0.25)DMIN(2)}>=91.4280%\n",
      "t=50 -> t=51: P{DMAX(2)<=(1+0.25)DMIN(2)}>=91.3827%\n",
      "t=51 -> t=52: P{DMAX(2)<=(1+0.25)DMIN(2)}>=91.3468%\n",
      "t=52 -> t=53: P{DMAX(2)<=(1+0.25)DMIN(2)}>=91.2643%\n",
      "t=53 -> t=54: P{DMAX(2)<=(1+0.25)DMIN(2)}>=91.2390%\n",
      "t=54 -> t=55: P{DMAX(2)<=(1+0.25)DMIN(2)}>=91.2056%\n",
      "t=55 -> t=56: P{DMAX(2)<=(1+0.25)DMIN(2)}>=91.2093%\n",
      "t=56 -> t=57: P{DMAX(2)<=(1+0.25)DMIN(2)}>=91.1763%\n",
      "t=57 -> t=58: P{DMAX(2)<=(1+0.25)DMIN(2)}>=91.0885%\n",
      "t=58 -> t=59: P{DMAX(2)<=(1+0.25)DMIN(2)}>=91.0677%\n",
      "t=59 -> t=60: P{DMAX(2)<=(1+0.25)DMIN(2)}>=91.0471%\n",
      "t=60 -> t=61: P{DMAX(2)<=(1+0.25)DMIN(2)}>=90.9652%\n",
      "t=61 -> t=62: P{DMAX(2)<=(1+0.25)DMIN(2)}>=90.8198%\n",
      "t=62 -> t=63: P{DMAX(2)<=(1+0.25)DMIN(2)}>=90.7549%\n",
      "t=63 -> t=64: P{DMAX(2)<=(1+0.25)DMIN(2)}>=90.5753%\n",
      "t=64 -> t=65: P{DMAX(2)<=(1+0.25)DMIN(2)}>=90.3741%\n",
      "t=65 -> t=66: P{DMAX(2)<=(1+0.25)DMIN(2)}>=90.0959%\n",
      "t=66 -> t=67: P{DMAX(2)<=(1+0.25)DMIN(2)}>=89.7469%\n",
      "t=67 -> t=68: P{DMAX(2)<=(1+0.25)DMIN(2)}>=89.2549%\n",
      "t=68 -> t=69: P{DMAX(2)<=(1+0.25)DMIN(2)}>=88.6075%\n",
      "t=69 -> t=70: P{DMAX(2)<=(1+0.25)DMIN(2)}>=87.7772%\n",
      "t=70 -> t=71: P{DMAX(2)<=(1+0.25)DMIN(2)}>=86.8520%\n",
      "t=71 -> t=72: P{DMAX(2)<=(1+0.25)DMIN(2)}>=85.6361%\n",
      "t=72 -> t=73: P{DMAX(2)<=(1+0.25)DMIN(2)}>=84.1142%\n",
      "t=73 -> t=74: P{DMAX(2)<=(1+0.25)DMIN(2)}>=82.3262%\n",
      "t=74 -> t=75: P{DMAX(2)<=(1+0.25)DMIN(2)}>=80.1336%\n",
      "t=75 -> t=76: P{DMAX(2)<=(1+0.25)DMIN(2)}>=77.4021%\n",
      "t=76 -> t=77: P{DMAX(2)<=(1+0.25)DMIN(2)}>=73.9813%\n",
      "t=77 -> t=78: P{DMAX(2)<=(1+0.25)DMIN(2)}>=70.0301%\n",
      "t=78 -> t=79: P{DMAX(2)<=(1+0.25)DMIN(2)}>=65.2561%\n",
      "t=79 -> t=80: P{DMAX(2)<=(1+0.25)DMIN(2)}>=59.8094%\n",
      "t=80 -> t=81: P{DMAX(2)<=(1+0.25)DMIN(2)}>=53.5304%\n",
      "t=81 -> t=82: P{DMAX(2)<=(1+0.25)DMIN(2)}>=46.8658%\n",
      "t=82 -> t=83: P{DMAX(2)<=(1+0.25)DMIN(2)}>=39.5825%\n",
      "t=83 -> t=84: P{DMAX(2)<=(1+0.25)DMIN(2)}>=32.3961%\n",
      "t=84 -> t=85: P{DMAX(2)<=(1+0.25)DMIN(2)}>=25.1164%\n",
      "t=85 -> t=86: P{DMAX(2)<=(1+0.25)DMIN(2)}>=18.4543%\n",
      "t=86 -> t=87: P{DMAX(2)<=(1+0.25)DMIN(2)}>=13.0615%\n",
      "t=87 -> t=88: P{DMAX(2)<=(1+0.25)DMIN(2)}>=9.0033%\n",
      "t=88 -> t=89: P{DMAX(2)<=(1+0.25)DMIN(2)}>=6.2955%\n",
      "t=89 -> t=90: P{DMAX(2)<=(1+0.25)DMIN(2)}>=4.4504%\n",
      "t=90 -> t=91: P{DMAX(2)<=(1+0.25)DMIN(2)}>=3.3348%\n",
      "t=91 -> t=92: P{DMAX(2)<=(1+0.25)DMIN(2)}>=2.5870%\n",
      "t=92 -> t=93: P{DMAX(2)<=(1+0.25)DMIN(2)}>=2.0950%\n",
      "t=93 -> t=94: P{DMAX(2)<=(1+0.25)DMIN(2)}>=1.7988%\n",
      "t=94 -> t=95: P{DMAX(2)<=(1+0.25)DMIN(2)}>=1.6379%\n",
      "t=95 -> t=96: P{DMAX(2)<=(1+0.25)DMIN(2)}>=1.5243%\n",
      "t=96 -> t=97: P{DMAX(2)<=(1+0.25)DMIN(2)}>=1.4495%\n",
      "t=97 -> t=98: P{DMAX(2)<=(1+0.25)DMIN(2)}>=1.4140%\n",
      "t=98 -> t=99: P{DMAX(2)<=(1+0.25)DMIN(2)}>=1.4051%\n",
      "t=99 -> t=100: P{DMAX(2)<=(1+0.25)DMIN(2)}>=1.4018%\n"
     ]
    }
   ],
   "source": [
    "x2g_ddim_prob_bound_list = []\n",
    "for t in range(asymptotic_dataset.shape[0] - 1):\n",
    "    Q_point_dataset = asymptotic_dataset[t][Q_point_indices]\n",
    "    T_point_dataset = asymptotic_dataset[t + 1]\n",
    "\n",
    "    # plot_data_point(Q_point)\n",
    "    prob_bound_list = []\n",
    "    for Q_point in Q_point_dataset:\n",
    "        prob_bound = cod_prob_bound(\n",
    "            T_point_dataset,\n",
    "            EPSILON,\n",
    "            Q_point,\n",
    "            \"euclidean\",\n",
    "            N,\n",
    "        )\n",
    "        prob_bound_list.append(prob_bound)\n",
    "    prob_bound_list = np.array(prob_bound_list)\n",
    "    prob_bound = prob_bound_list.mean()\n",
    "    print(f\"t={t} -> t={t+1}: P{{DMAX({N})<=(1+{EPSILON})DMIN({N})}}>={prob_bound:.4%}\")\n",
    "\n",
    "    x2g_ddim_prob_bound_list.append(prob_bound)\n"
   ]
  },
  {
   "cell_type": "markdown",
   "metadata": {},
   "source": [
    "## Flow\n"
   ]
  },
  {
   "cell_type": "markdown",
   "metadata": {},
   "source": [
    "### generate asymptotic distribution\n"
   ]
  },
  {
   "cell_type": "code",
   "execution_count": 15,
   "metadata": {},
   "outputs": [
    {
     "data": {
      "application/vnd.jupyter.widget-view+json": {
       "model_id": "7e022e3fa21e4cf8893dd6bec4ea4437",
       "version_major": 2,
       "version_minor": 0
      },
      "text/plain": [
       "  0%|          | 0/6000 [00:00<?, ?it/s]"
      ]
     },
     "metadata": {},
     "output_type": "display_data"
    }
   ],
   "source": [
    "flow_path_list = []\n",
    "for (x, _), (y, _) in tqdm(\n",
    "    zip(source_dataset, target_dataset), total=len(source_dataset)\n",
    "):\n",
    "    path = get_flow_path(x, y, 100)\n",
    "    path = torch.stack(path)\n",
    "    flow_path_list.append(path)\n",
    "\n",
    "flow_path_list = torch.stack(flow_path_list)\n",
    "flow_asymptotic_dataset = flow_path_list.transpose(0, 1)\n"
   ]
  },
  {
   "cell_type": "code",
   "execution_count": 16,
   "metadata": {},
   "outputs": [
    {
     "data": {
      "image/png": "[encoded data removed]",
      "text/plain": [
       "<Figure size 1350x225 with 6 Axes>"
      ]
     },
     "metadata": {},
     "output_type": "display_data"
    }
   ],
   "source": [
    "plot_path(\n",
    "    flow_path_list[0][[0, 19, 39, 59, 79, 99]],\n",
    "    gray=GRAY_PLOTS,\n",
    ")\n"
   ]
  },
  {
   "cell_type": "markdown",
   "metadata": {},
   "source": [
    "### caculate CoD Prob Bound\n"
   ]
  },
  {
   "cell_type": "code",
   "execution_count": 17,
   "metadata": {},
   "outputs": [],
   "source": [
    "Q_point_indices = np.random.choice(flow_path_list.shape[0], 100, replace=False)"
   ]
  },
  {
   "cell_type": "code",
   "execution_count": 18,
   "metadata": {},
   "outputs": [
    {
     "name": "stdout",
     "output_type": "stream",
     "text": [
      "t=0 -> t=99: P{DMAX(2)<=(1+0.25)DMIN(2)}>=44.4615%\n"
     ]
    }
   ],
   "source": [
    "Q_point_dataset = flow_asymptotic_dataset[0][Q_point_indices]\n",
    "T_point_dataset = flow_asymptotic_dataset[-1]\n",
    "\n",
    "prob_bound_list = []\n",
    "for Q_point in Q_point_dataset:\n",
    "    prob_bound = cod_prob_bound(\n",
    "        T_point_dataset,\n",
    "        EPSILON,\n",
    "        Q_point,\n",
    "        \"euclidean\",\n",
    "        N,\n",
    "    )\n",
    "    prob_bound_list.append(prob_bound)\n",
    "prob_bound_list = np.array(prob_bound_list)\n",
    "x2y_prob_bound = prob_bound_list.mean()\n",
    "\n",
    "print(\n",
    "    f\"t={0} -> t={flow_asymptotic_dataset.shape[0]-1}: P{{DMAX({N})<=(1+{EPSILON})DMIN({N})}}>={x2y_prob_bound:.4%}\"\n",
    ")\n"
   ]
  },
  {
   "cell_type": "code",
   "execution_count": 19,
   "metadata": {},
   "outputs": [
    {
     "name": "stdout",
     "output_type": "stream",
     "text": [
      "t=0 -> t=1: P{DMAX(2)<=(1+0.25)DMIN(2)}>=0.0155%\n",
      "t=1 -> t=2: P{DMAX(2)<=(1+0.25)DMIN(2)}>=0.0157%\n",
      "t=2 -> t=3: P{DMAX(2)<=(1+0.25)DMIN(2)}>=0.0158%\n",
      "t=3 -> t=4: P{DMAX(2)<=(1+0.25)DMIN(2)}>=0.0161%\n",
      "t=4 -> t=5: P{DMAX(2)<=(1+0.25)DMIN(2)}>=0.0165%\n",
      "t=5 -> t=6: P{DMAX(2)<=(1+0.25)DMIN(2)}>=0.0170%\n",
      "t=6 -> t=7: P{DMAX(2)<=(1+0.25)DMIN(2)}>=0.0176%\n",
      "t=7 -> t=8: P{DMAX(2)<=(1+0.25)DMIN(2)}>=0.0183%\n",
      "t=8 -> t=9: P{DMAX(2)<=(1+0.25)DMIN(2)}>=0.0192%\n",
      "t=9 -> t=10: P{DMAX(2)<=(1+0.25)DMIN(2)}>=0.0202%\n",
      "t=10 -> t=11: P{DMAX(2)<=(1+0.25)DMIN(2)}>=0.0213%\n",
      "t=11 -> t=12: P{DMAX(2)<=(1+0.25)DMIN(2)}>=0.0227%\n",
      "t=12 -> t=13: P{DMAX(2)<=(1+0.25)DMIN(2)}>=0.0242%\n",
      "t=13 -> t=14: P{DMAX(2)<=(1+0.25)DMIN(2)}>=0.0259%\n",
      "t=14 -> t=15: P{DMAX(2)<=(1+0.25)DMIN(2)}>=0.0279%\n",
      "t=15 -> t=16: P{DMAX(2)<=(1+0.25)DMIN(2)}>=0.0301%\n",
      "t=16 -> t=17: P{DMAX(2)<=(1+0.25)DMIN(2)}>=0.0325%\n",
      "t=17 -> t=18: P{DMAX(2)<=(1+0.25)DMIN(2)}>=0.0353%\n",
      "t=18 -> t=19: P{DMAX(2)<=(1+0.25)DMIN(2)}>=0.0383%\n",
      "t=19 -> t=20: P{DMAX(2)<=(1+0.25)DMIN(2)}>=0.0417%\n",
      "t=20 -> t=21: P{DMAX(2)<=(1+0.25)DMIN(2)}>=0.0455%\n",
      "t=21 -> t=22: P{DMAX(2)<=(1+0.25)DMIN(2)}>=0.0500%\n",
      "t=22 -> t=23: P{DMAX(2)<=(1+0.25)DMIN(2)}>=0.0552%\n",
      "t=23 -> t=24: P{DMAX(2)<=(1+0.25)DMIN(2)}>=0.0612%\n",
      "t=24 -> t=25: P{DMAX(2)<=(1+0.25)DMIN(2)}>=0.0683%\n",
      "t=25 -> t=26: P{DMAX(2)<=(1+0.25)DMIN(2)}>=0.0769%\n",
      "t=26 -> t=27: P{DMAX(2)<=(1+0.25)DMIN(2)}>=0.0871%\n",
      "t=27 -> t=28: P{DMAX(2)<=(1+0.25)DMIN(2)}>=0.0989%\n",
      "t=28 -> t=29: P{DMAX(2)<=(1+0.25)DMIN(2)}>=0.1124%\n",
      "t=29 -> t=30: P{DMAX(2)<=(1+0.25)DMIN(2)}>=0.1273%\n",
      "t=30 -> t=31: P{DMAX(2)<=(1+0.25)DMIN(2)}>=0.1438%\n",
      "t=31 -> t=32: P{DMAX(2)<=(1+0.25)DMIN(2)}>=0.1616%\n",
      "t=32 -> t=33: P{DMAX(2)<=(1+0.25)DMIN(2)}>=0.1811%\n",
      "t=33 -> t=34: P{DMAX(2)<=(1+0.25)DMIN(2)}>=0.2026%\n",
      "t=34 -> t=35: P{DMAX(2)<=(1+0.25)DMIN(2)}>=0.2259%\n",
      "t=35 -> t=36: P{DMAX(2)<=(1+0.25)DMIN(2)}>=0.2519%\n",
      "t=36 -> t=37: P{DMAX(2)<=(1+0.25)DMIN(2)}>=0.2832%\n",
      "t=37 -> t=38: P{DMAX(2)<=(1+0.25)DMIN(2)}>=0.3194%\n",
      "t=38 -> t=39: P{DMAX(2)<=(1+0.25)DMIN(2)}>=0.3598%\n",
      "t=39 -> t=40: P{DMAX(2)<=(1+0.25)DMIN(2)}>=0.4042%\n",
      "t=40 -> t=41: P{DMAX(2)<=(1+0.25)DMIN(2)}>=0.4545%\n",
      "t=41 -> t=42: P{DMAX(2)<=(1+0.25)DMIN(2)}>=0.5143%\n",
      "t=42 -> t=43: P{DMAX(2)<=(1+0.25)DMIN(2)}>=0.5827%\n",
      "t=43 -> t=44: P{DMAX(2)<=(1+0.25)DMIN(2)}>=0.6578%\n",
      "t=44 -> t=45: P{DMAX(2)<=(1+0.25)DMIN(2)}>=0.7427%\n",
      "t=45 -> t=46: P{DMAX(2)<=(1+0.25)DMIN(2)}>=0.8357%\n",
      "t=46 -> t=47: P{DMAX(2)<=(1+0.25)DMIN(2)}>=0.9343%\n",
      "t=47 -> t=48: P{DMAX(2)<=(1+0.25)DMIN(2)}>=1.0395%\n",
      "t=48 -> t=49: P{DMAX(2)<=(1+0.25)DMIN(2)}>=1.1486%\n",
      "t=49 -> t=50: P{DMAX(2)<=(1+0.25)DMIN(2)}>=1.2605%\n",
      "t=50 -> t=51: P{DMAX(2)<=(1+0.25)DMIN(2)}>=1.3742%\n",
      "t=51 -> t=52: P{DMAX(2)<=(1+0.25)DMIN(2)}>=1.4880%\n",
      "t=52 -> t=53: P{DMAX(2)<=(1+0.25)DMIN(2)}>=1.5969%\n",
      "t=53 -> t=54: P{DMAX(2)<=(1+0.25)DMIN(2)}>=1.7013%\n",
      "t=54 -> t=55: P{DMAX(2)<=(1+0.25)DMIN(2)}>=1.8033%\n",
      "t=55 -> t=56: P{DMAX(2)<=(1+0.25)DMIN(2)}>=1.8994%\n",
      "t=56 -> t=57: P{DMAX(2)<=(1+0.25)DMIN(2)}>=1.9878%\n",
      "t=57 -> t=58: P{DMAX(2)<=(1+0.25)DMIN(2)}>=2.0717%\n",
      "t=58 -> t=59: P{DMAX(2)<=(1+0.25)DMIN(2)}>=2.1562%\n",
      "t=59 -> t=60: P{DMAX(2)<=(1+0.25)DMIN(2)}>=2.2394%\n",
      "t=60 -> t=61: P{DMAX(2)<=(1+0.25)DMIN(2)}>=2.3197%\n",
      "t=61 -> t=62: P{DMAX(2)<=(1+0.25)DMIN(2)}>=2.3947%\n",
      "t=62 -> t=63: P{DMAX(2)<=(1+0.25)DMIN(2)}>=2.4634%\n",
      "t=63 -> t=64: P{DMAX(2)<=(1+0.25)DMIN(2)}>=2.5258%\n",
      "t=64 -> t=65: P{DMAX(2)<=(1+0.25)DMIN(2)}>=2.5804%\n",
      "t=65 -> t=66: P{DMAX(2)<=(1+0.25)DMIN(2)}>=2.6254%\n",
      "t=66 -> t=67: P{DMAX(2)<=(1+0.25)DMIN(2)}>=2.6616%\n",
      "t=67 -> t=68: P{DMAX(2)<=(1+0.25)DMIN(2)}>=2.6902%\n",
      "t=68 -> t=69: P{DMAX(2)<=(1+0.25)DMIN(2)}>=2.7123%\n",
      "t=69 -> t=70: P{DMAX(2)<=(1+0.25)DMIN(2)}>=2.7291%\n",
      "t=70 -> t=71: P{DMAX(2)<=(1+0.25)DMIN(2)}>=2.7414%\n",
      "t=71 -> t=72: P{DMAX(2)<=(1+0.25)DMIN(2)}>=2.7480%\n",
      "t=72 -> t=73: P{DMAX(2)<=(1+0.25)DMIN(2)}>=2.7495%\n",
      "t=73 -> t=74: P{DMAX(2)<=(1+0.25)DMIN(2)}>=2.7470%\n",
      "t=74 -> t=75: P{DMAX(2)<=(1+0.25)DMIN(2)}>=2.7413%\n",
      "t=75 -> t=76: P{DMAX(2)<=(1+0.25)DMIN(2)}>=2.7327%\n",
      "t=76 -> t=77: P{DMAX(2)<=(1+0.25)DMIN(2)}>=2.7219%\n",
      "t=77 -> t=78: P{DMAX(2)<=(1+0.25)DMIN(2)}>=2.7094%\n",
      "t=78 -> t=79: P{DMAX(2)<=(1+0.25)DMIN(2)}>=2.6959%\n",
      "t=79 -> t=80: P{DMAX(2)<=(1+0.25)DMIN(2)}>=2.6817%\n",
      "t=80 -> t=81: P{DMAX(2)<=(1+0.25)DMIN(2)}>=2.6673%\n",
      "t=81 -> t=82: P{DMAX(2)<=(1+0.25)DMIN(2)}>=2.6528%\n",
      "t=82 -> t=83: P{DMAX(2)<=(1+0.25)DMIN(2)}>=2.6384%\n",
      "t=83 -> t=84: P{DMAX(2)<=(1+0.25)DMIN(2)}>=2.6243%\n",
      "t=84 -> t=85: P{DMAX(2)<=(1+0.25)DMIN(2)}>=2.6108%\n",
      "t=85 -> t=86: P{DMAX(2)<=(1+0.25)DMIN(2)}>=2.5980%\n",
      "t=86 -> t=87: P{DMAX(2)<=(1+0.25)DMIN(2)}>=2.5861%\n",
      "t=87 -> t=88: P{DMAX(2)<=(1+0.25)DMIN(2)}>=2.5750%\n",
      "t=88 -> t=89: P{DMAX(2)<=(1+0.25)DMIN(2)}>=2.5650%\n",
      "t=89 -> t=90: P{DMAX(2)<=(1+0.25)DMIN(2)}>=2.5560%\n",
      "t=90 -> t=91: P{DMAX(2)<=(1+0.25)DMIN(2)}>=2.5480%\n",
      "t=91 -> t=92: P{DMAX(2)<=(1+0.25)DMIN(2)}>=2.5409%\n",
      "t=92 -> t=93: P{DMAX(2)<=(1+0.25)DMIN(2)}>=2.5348%\n",
      "t=93 -> t=94: P{DMAX(2)<=(1+0.25)DMIN(2)}>=2.5297%\n",
      "t=94 -> t=95: P{DMAX(2)<=(1+0.25)DMIN(2)}>=2.5256%\n",
      "t=95 -> t=96: P{DMAX(2)<=(1+0.25)DMIN(2)}>=2.5225%\n",
      "t=96 -> t=97: P{DMAX(2)<=(1+0.25)DMIN(2)}>=2.5203%\n",
      "t=97 -> t=98: P{DMAX(2)<=(1+0.25)DMIN(2)}>=2.5191%\n",
      "t=98 -> t=99: P{DMAX(2)<=(1+0.25)DMIN(2)}>=2.5187%\n"
     ]
    }
   ],
   "source": [
    "x2y_flow_prob_bound_list = []\n",
    "for t in range(flow_asymptotic_dataset.shape[0] - 1):\n",
    "    Q_point_dataset = flow_asymptotic_dataset[t][Q_point_indices]\n",
    "    T_point_dataset = flow_asymptotic_dataset[t + 1]\n",
    "\n",
    "    # plot_data_point(Q_point)\n",
    "    prob_bound_list = []\n",
    "    for Q_point in Q_point_dataset:\n",
    "        prob_bound = cod_prob_bound(\n",
    "            T_point_dataset,\n",
    "            EPSILON,\n",
    "            Q_point,\n",
    "            \"euclidean\",\n",
    "            N,\n",
    "        )\n",
    "        prob_bound_list.append(prob_bound)\n",
    "    prob_bound_list = np.array(prob_bound_list)\n",
    "    prob_bound = prob_bound_list.mean()\n",
    "    print(f\"t={t} -> t={t+1}: P{{DMAX({N})<=(1+{EPSILON})DMIN({N})}}>={prob_bound:.4%}\")\n",
    "\n",
    "    x2y_flow_prob_bound_list.append(prob_bound)\n"
   ]
  },
  {
   "cell_type": "markdown",
   "metadata": {},
   "source": [
    "# TODO LIST\n",
    "\n",
    "0. []画图\n",
    "1. []数据集\n",
    "   - [] FMNIST, MNIST\n",
    "   - [] comic_faces_v1\n",
    "2. []多种渐变方式\n",
    "   - [√] 扩散(DDIM)：并无直接 X->Y 的分布转移渐变，只有 X->高斯->Y 分布。但高斯分布本身会造成严重距离聚集。\n",
    "   - [√] Flow(插值)\n",
    "   - [] 薛定谔桥：渐进轨迹是学习得到的\n"
   ]
  }
 ],
 "metadata": {
  "celltoolbar": "Tags",
  "kernelspec": {
   "display_name": "Python 3 (ipykernel)",
   "language": "python",
   "name": "python3"
  },
  "language_info": {
   "codemirror_mode": {
    "name": "ipython",
    "version": 3
   },
   "file_extension": ".py",
   "mimetype": "text/x-python",
   "name": "python",
   "nbconvert_exporter": "python",
   "pygments_lexer": "ipython3",
   "version": "3.9.21"
  }
 },
 "nbformat": 4,
 "nbformat_minor": 4
}
