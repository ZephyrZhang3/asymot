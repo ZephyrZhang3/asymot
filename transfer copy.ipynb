{
 "cells": [
  {
   "cell_type": "markdown",
   "metadata": {},
   "source": [
    "## 1. Imports\n"
   ]
  },
  {
   "cell_type": "code",
   "execution_count": 1,
   "metadata": {},
   "outputs": [],
   "source": [
    "import sys\n",
    "import gc\n",
    "import os\n",
    "import random\n",
    "\n",
    "import torch\n",
    "from torch.utils.data import Subset\n",
    "import torchvision.datasets as datasets\n",
    "import numpy as np\n",
    "from diffusers import DDIMScheduler\n",
    "from torchvision.transforms import Compose, ToTensor, Resize, Normalize\n",
    "from tqdm.notebook import tqdm\n",
    "\n",
    "import matplotlib.pyplot as plt\n",
    "\n",
    "sys.path.append(\"..\")\n",
    "from utils import (\n",
    "    set_random_seed,\n",
    "    add_ddim_noise_at_t_step,\n",
    "    add_ddim_noise_t_times,\n",
    "    qiuck_ddim_noise_t_times,\n",
    "    get_ddim_path,\n",
    "    get_ddib_path,\n",
    "    cod_prob_bound,\n",
    "    estimate_cod_prob_bound,\n",
    ")\n",
    "\n",
    "from sampler import get_paired_dataset\n",
    "\n",
    "%matplotlib inline "
   ]
  },
  {
   "cell_type": "markdown",
   "metadata": {},
   "source": [
    "## 2. Config\n"
   ]
  },
  {
   "cell_type": "code",
   "execution_count": 2,
   "metadata": {
    "tags": [
     "parameters"
    ]
   },
   "outputs": [],
   "source": [
    "SEED = 0x4090\n",
    "set_random_seed(SEED)\n",
    "\n",
    "# dataset choosing\n",
    "# DATASET, DATASET_PATH, IMG_SIZE, GRAY = \"mnist2usps\", \"./data/\", 28, True\n",
    "DATASET, DATASET_PATH, IMG_SIZE, GRAY = \"fmnist2mnist\", \"./data/\", 28, True\n",
    "# DATASET, DATASET_PATH, IMG_SIZE, GRAY = \"usps2fmnist\", \"./data/\", 28, True\n",
    "\n",
    "\n",
    "# DATASET, DATASET_PATH, IMG_SIZE, GRAY = (\n",
    "#     \"comic_faces_v1\",\n",
    "#     \"./data/face2comics_v1.0.0_by_Sxela\",\n",
    "#     256,\n",
    "#     False,\n",
    "# )\n",
    "\n",
    "# the step number adding noise in diffusion process\n",
    "DIFFUSION_STEPS = 100\n",
    "SCHEDULER = DDIMScheduler(num_train_timesteps=DIFFUSION_STEPS)\n",
    "PIVOTAL_LIST = [i for i in range(0, DIFFUSION_STEPS * 2 + 1, 100)]\n",
    "# PIVOTAL_LIST = [20, 50, 100]\n",
    "# All hyperparameters below is set to the values used for the experiments, which discribed in the article\n",
    "EPSILON = 0.25\n",
    "R = 1000  # or len(dataset) dataset estimation sample size\n",
    "N = 2\n",
    "P = 1\n",
    "NUM_QUERY = 100\n",
    "# data sample settings\n",
    "SELECTED_CLASSES = [2]"
   ]
  },
  {
   "cell_type": "markdown",
   "metadata": {},
   "source": [
    "## 3. Initialize dataset\n"
   ]
  },
  {
   "cell_type": "code",
   "execution_count": 3,
   "metadata": {},
   "outputs": [],
   "source": [
    "class PairedDataset2(torch.utils.data.Dataset):\n",
    "    def __init__(\n",
    "        self,\n",
    "        name,\n",
    "        root,\n",
    "        train=True,\n",
    "        transform=None,\n",
    "        download=False,\n",
    "        selected_classes=None,\n",
    "        reverse=False,\n",
    "    ):\n",
    "        super().__init__()\n",
    "        self.reverse = reverse\n",
    "\n",
    "        if name == \"usps2fmnist\":\n",
    "            source = datasets.USPS(\n",
    "                os.path.join(root, \"USPS\", \"raw\"), train, transform, download=download\n",
    "            )\n",
    "            target = datasets.FashionMNIST(root, train, transform, download=download)\n",
    "        elif name == \"fmnist2mnist\":\n",
    "            source = datasets.FashionMNIST(root, train, transform, download=download)\n",
    "            target = datasets.MNIST(root, train, transform, download=download)\n",
    "        elif name == \"mnist2usps\":\n",
    "            source = datasets.MNIST(root, train, transform, download=download)\n",
    "            target = datasets.USPS(\n",
    "                os.path.join(root, \"USPS\", \"raw\"), train, transform, download=download\n",
    "            )\n",
    "        else:\n",
    "            raise \"Invalid dataset name\"\n",
    "\n",
    "        if selected_classes is not None:\n",
    "            source_indices = [\n",
    "                i for i in range(len(source)) if source.targets[i] in selected_classes\n",
    "            ]\n",
    "            target_indices = [\n",
    "                i for i in range(len(target)) if target.targets[i] in selected_classes\n",
    "            ]\n",
    "        else:\n",
    "            source_indices = range(len(source))\n",
    "            target_indices = range(len(target))\n",
    "\n",
    "        source_indices = source_indices[: min(len(source), len(target))]\n",
    "        target_indices = target_indices[: min(len(source), len(target))]\n",
    "\n",
    "        self.x = Subset(source, source_indices)\n",
    "        self.y = Subset(target, target_indices)\n",
    "\n",
    "    def __len__(self):\n",
    "        return len(self.x)\n",
    "\n",
    "    def __getitem__(self, idx):\n",
    "        x, y = (self.x)[idx][0], (self.y)[idx][0]\n",
    "\n",
    "        return (x, y) if not self.reverse else (y, x)"
   ]
  },
  {
   "cell_type": "code",
   "execution_count": 4,
   "metadata": {},
   "outputs": [
    {
     "data": {
      "text/plain": [
       "5958"
      ]
     },
     "execution_count": 4,
     "metadata": {},
     "output_type": "execute_result"
    }
   ],
   "source": [
    "if DATASET in [\"mnist2fmnist\", \"usps2mnist\", \"fmnist2usps\"]:\n",
    "    transform = Compose(\n",
    "        [\n",
    "            Resize((IMG_SIZE, IMG_SIZE)),\n",
    "            ToTensor(),\n",
    "            Normalize((0.5), (0.5)),\n",
    "        ]\n",
    "    )\n",
    "    dataset = PairedDataset2(\n",
    "        DATASET,\n",
    "        DATASET_PATH,\n",
    "        transform=transform,\n",
    "        selected_classes=SELECTED_CLASSES,\n",
    "    )\n",
    "\n",
    "elif DATASET == \"comic_faces_v1\":\n",
    "    transform = Compose(\n",
    "        [\n",
    "            Resize((IMG_SIZE, IMG_SIZE)),\n",
    "            ToTensor(),\n",
    "            Normalize((0.5, 0.5, 0.5), (0.5, 0.5, 0.5)),\n",
    "        ]\n",
    "    )\n",
    "    dataset, _ = get_paired_dataset(\n",
    "        DATASET,\n",
    "        DATASET_PATH,\n",
    "        transform,\n",
    "    )\n",
    "else:\n",
    "    raise \"Invalid dataset\"\n",
    "\n",
    "len(dataset)"
   ]
  },
  {
   "cell_type": "code",
   "execution_count": 5,
   "metadata": {},
   "outputs": [
    {
     "data": {
      "text/plain": [
       "(torch.Tensor, torch.Size([1, 28, 28]))"
      ]
     },
     "execution_count": 5,
     "metadata": {},
     "output_type": "execute_result"
    }
   ],
   "source": [
    "type(dataset[0][0]), dataset[0][0].shape"
   ]
  },
  {
   "cell_type": "code",
   "execution_count": 6,
   "metadata": {},
   "outputs": [
    {
     "data": {
      "text/plain": [
       "1000"
      ]
     },
     "execution_count": 6,
     "metadata": {},
     "output_type": "execute_result"
    }
   ],
   "source": [
    "dataset = Subset(\n",
    "    dataset,\n",
    "    random.choices(range(len(dataset)), k=min(R, len(dataset))),\n",
    ")\n",
    "len(dataset)\n"
   ]
  },
  {
   "cell_type": "code",
   "execution_count": 7,
   "metadata": {},
   "outputs": [
    {
     "data": {
      "image/png": "[encoded data removed]",
      "text/plain": [
       "<Figure size 640x480 with 1 Axes>"
      ]
     },
     "metadata": {},
     "output_type": "display_data"
    },
    {
     "data": {
      "image/png": "[encoded data removed]",
      "text/plain": [
       "<Figure size 640x480 with 1 Axes>"
      ]
     },
     "metadata": {},
     "output_type": "display_data"
    }
   ],
   "source": [
    "def plot_data_point(x, gray=GRAY):\n",
    "    if gray:\n",
    "        plt.imshow(x.squeeze().numpy(), cmap=\"gray\")\n",
    "    else:\n",
    "        plt.imshow(x.squeeze().permute(1, 2, 0).numpy())\n",
    "    plt.axis(\"off\")  # 不显示坐标轴\n",
    "    plt.show()\n",
    "\n",
    "\n",
    "plot_data_point(dataset[0][0])\n",
    "plot_data_point(dataset[0][1])"
   ]
  },
  {
   "cell_type": "code",
   "execution_count": 8,
   "metadata": {},
   "outputs": [],
   "source": [
    "from typing import Union\n",
    "\n",
    "\n",
    "def plot_path(\n",
    "    path: Union[list, torch.Tensor],\n",
    "    indices: list = None,\n",
    "    gray: bool = False,\n",
    "):\n",
    "    if indices is not None:\n",
    "        path = [path[i] for i in indices]\n",
    "    if isinstance(path, list):\n",
    "        path = torch.stack(path)\n",
    "\n",
    "    imgs: np.ndarray = (\n",
    "        path.to(\"cpu\").permute(0, 2, 3, 1).mul(0.5).add(0.5).numpy().clip(0, 1)\n",
    "    )\n",
    "\n",
    "    if len(path) < 10:\n",
    "        ncols = len(path)\n",
    "        nrows = 1\n",
    "    else:\n",
    "        ncols = 10\n",
    "        nrows = len(path) // 10 + 1\n",
    "\n",
    "    fig = plt.figure(figsize=(1.5 * ncols, 1.5 * nrows), dpi=150)\n",
    "    for i, img in enumerate(imgs):\n",
    "        ax = fig.add_subplot(nrows, ncols, i + 1)\n",
    "        if gray:\n",
    "            ax.imshow(img, cmap=\"gray\")\n",
    "        else:\n",
    "            ax.imshow(img)\n",
    "        ax.get_yaxis().set_visible(False)\n",
    "        ax.get_xaxis().set_visible(False)\n",
    "        ax.set_yticks([])\n",
    "        ax.set_xticks([])\n",
    "        ax.set_title(f\"$X_{{{i}}}$\", fontsize=16)\n",
    "        if i == imgs.shape[0] - 1:\n",
    "            ax.set_title(\"Y\", fontsize=16)\n",
    "    fig.tight_layout()\n",
    "    torch.cuda.empty_cache()\n",
    "    gc.collect()"
   ]
  },
  {
   "cell_type": "markdown",
   "metadata": {},
   "source": [
    "## 4. Concentration of Distance Probability\n"
   ]
  },
  {
   "cell_type": "markdown",
   "metadata": {},
   "source": [
    "### DDIB\n"
   ]
  },
  {
   "cell_type": "markdown",
   "metadata": {},
   "source": [
    "#### generate asymptotic distribution\n"
   ]
  },
  {
   "cell_type": "code",
   "execution_count": 9,
   "metadata": {},
   "outputs": [],
   "source": [
    "image_shape = dataset[0][0].shape"
   ]
  },
  {
   "cell_type": "code",
   "execution_count": 10,
   "metadata": {},
   "outputs": [],
   "source": [
    "# FIXME: 512图片内存占用巨大，需要优化（或者服务器运行尝试）"
   ]
  },
  {
   "cell_type": "code",
   "execution_count": 11,
   "metadata": {},
   "outputs": [],
   "source": [
    "x2self_prob_bound = None\n",
    "y2self_prob_bound = None\n",
    "\n",
    "x2y_prob_bound = None\n",
    "x2g_ddim_prob_bound_list = []\n",
    "x2g_prob_bound = None\n",
    "g2y_ddim_prob_bound_list = []\n",
    "g2y_prob_bound = None\n",
    "\n",
    "Q_point_indices = np.random.choice(len(dataset), NUM_QUERY, replace=False)\n"
   ]
  },
  {
   "cell_type": "code",
   "execution_count": 12,
   "metadata": {},
   "outputs": [],
   "source": [
    "x2y_ddib_asymptotic_neighbor_dataset = torch.empty(\n",
    "    (2, len(dataset), *image_shape), dtype=torch.float32\n",
    ")\n"
   ]
  },
  {
   "cell_type": "code",
   "execution_count": 13,
   "metadata": {},
   "outputs": [
    {
     "data": {
      "application/vnd.jupyter.widget-view+json": {
       "model_id": "1e9122149f384ce09e22ceddf0088148",
       "version_major": 2,
       "version_minor": 0
      },
      "text/plain": [
       "  0%|          | 0/1000 [00:00<?, ?it/s]"
      ]
     },
     "metadata": {},
     "output_type": "display_data"
    }
   ],
   "source": [
    "for i in tqdm(range(len(dataset))):\n",
    "    x2y_ddib_asymptotic_neighbor_dataset[0][i] = dataset[i][0]\n",
    "    x2y_ddib_asymptotic_neighbor_dataset[1][i] = dataset[i][1]\n"
   ]
  },
  {
   "cell_type": "code",
   "execution_count": 14,
   "metadata": {},
   "outputs": [
    {
     "data": {
      "image/png": "[encoded data removed]",
      "text/plain": [
       "<Figure size 640x480 with 1 Axes>"
      ]
     },
     "metadata": {},
     "output_type": "display_data"
    },
    {
     "data": {
      "image/png": "[encoded data removed]",
      "text/plain": [
       "<Figure size 640x480 with 1 Axes>"
      ]
     },
     "metadata": {},
     "output_type": "display_data"
    },
    {
     "name": "stdout",
     "output_type": "stream",
     "text": [
      "x -> x: P{DMAX(2)<=(1+0.25)DMIN(2)}>=1.3813%\n"
     ]
    }
   ],
   "source": [
    "Q_dataset = x2y_ddib_asymptotic_neighbor_dataset[0][Q_point_indices]\n",
    "T_dataset = x2y_ddib_asymptotic_neighbor_dataset[0]\n",
    "\n",
    "plot_data_point(Q_dataset[0])\n",
    "plot_data_point(T_dataset[0])\n",
    "\n",
    "prob_bound_list = []\n",
    "for Q_point in Q_dataset:\n",
    "    prob_bound = cod_prob_bound(\n",
    "        T_dataset,\n",
    "        EPSILON,\n",
    "        Q_point,\n",
    "        \"euclidean\",\n",
    "        N,\n",
    "        P,\n",
    "    )\n",
    "    prob_bound_list.append(prob_bound)\n",
    "prob_bound_list = np.array(prob_bound_list)\n",
    "x2self_prob_bound = prob_bound_list.mean()\n",
    "\n",
    "print(f\"x -> x: P{{DMAX({N})<=(1+{EPSILON})DMIN({N})}}>={x2self_prob_bound:.4%}\")\n"
   ]
  },
  {
   "cell_type": "code",
   "execution_count": 15,
   "metadata": {},
   "outputs": [
    {
     "data": {
      "image/png": "[encoded data removed]",
      "text/plain": [
       "<Figure size 640x480 with 1 Axes>"
      ]
     },
     "metadata": {},
     "output_type": "display_data"
    },
    {
     "data": {
      "image/png": "[encoded data removed]",
      "text/plain": [
       "<Figure size 640x480 with 1 Axes>"
      ]
     },
     "metadata": {},
     "output_type": "display_data"
    },
    {
     "name": "stdout",
     "output_type": "stream",
     "text": [
      "y -> y: P{DMAX(2)<=(1+0.25)DMIN(2)}>=0.0575%\n"
     ]
    }
   ],
   "source": [
    "Q_dataset = x2y_ddib_asymptotic_neighbor_dataset[1][Q_point_indices]\n",
    "T_dataset = x2y_ddib_asymptotic_neighbor_dataset[1]\n",
    "plot_data_point(Q_dataset[0])\n",
    "plot_data_point(T_dataset[0])\n",
    "\n",
    "prob_bound_list = []\n",
    "for Q_point in Q_dataset:\n",
    "    prob_bound = cod_prob_bound(\n",
    "        T_dataset,\n",
    "        EPSILON,\n",
    "        Q_point,\n",
    "        \"euclidean\",\n",
    "        N,\n",
    "        P,\n",
    "    )\n",
    "    prob_bound_list.append(prob_bound)\n",
    "prob_bound_list = np.array(prob_bound_list)\n",
    "y2self_prob_bound = prob_bound_list.mean()\n",
    "\n",
    "print(f\"y -> y: P{{DMAX({N})<=(1+{EPSILON})DMIN({N})}}>={y2self_prob_bound:.4%}\")\n"
   ]
  },
  {
   "cell_type": "code",
   "execution_count": 16,
   "metadata": {},
   "outputs": [
    {
     "data": {
      "image/png": "[encoded data removed]",
      "text/plain": [
       "<Figure size 640x480 with 1 Axes>"
      ]
     },
     "metadata": {},
     "output_type": "display_data"
    },
    {
     "data": {
      "image/png": "[encoded data removed]",
      "text/plain": [
       "<Figure size 640x480 with 1 Axes>"
      ]
     },
     "metadata": {},
     "output_type": "display_data"
    },
    {
     "name": "stdout",
     "output_type": "stream",
     "text": [
      "x -> y: P{DMAX(2)<=(1+0.25)DMIN(2)}>=0.0062%\n"
     ]
    }
   ],
   "source": [
    "Q_dataset = x2y_ddib_asymptotic_neighbor_dataset[0][Q_point_indices]\n",
    "T_dataset = x2y_ddib_asymptotic_neighbor_dataset[1]\n",
    "\n",
    "plot_data_point(Q_dataset[3])\n",
    "plot_data_point(T_dataset[3])\n",
    "\n",
    "prob_bound_list = []\n",
    "for Q_point in Q_dataset:\n",
    "    prob_bound = cod_prob_bound(\n",
    "        T_dataset,\n",
    "        EPSILON,\n",
    "        Q_point,\n",
    "        \"euclidean\",\n",
    "        N,\n",
    "        P,\n",
    "    )\n",
    "    prob_bound_list.append(prob_bound)\n",
    "prob_bound_list = np.array(prob_bound_list)\n",
    "x2y_prob_bound = prob_bound_list.mean()\n",
    "print(f\"x -> y: P{{DMAX({N})<=(1+{EPSILON})DMIN({N})}}>={x2y_prob_bound:.4%}\")\n"
   ]
  },
  {
   "cell_type": "code",
   "execution_count": 17,
   "metadata": {},
   "outputs": [
    {
     "data": {
      "image/png": "[encoded data removed]",
      "text/plain": [
       "<Figure size 640x480 with 1 Axes>"
      ]
     },
     "metadata": {},
     "output_type": "display_data"
    },
    {
     "data": {
      "image/png": "[encoded data removed]",
      "text/plain": [
       "<Figure size 640x480 with 1 Axes>"
      ]
     },
     "metadata": {},
     "output_type": "display_data"
    },
    {
     "name": "stdout",
     "output_type": "stream",
     "text": [
      "y -> x: P{DMAX(2)<=(1+0.25)DMIN(2)}>=70.7835%\n"
     ]
    }
   ],
   "source": [
    "Q_dataset = x2y_ddib_asymptotic_neighbor_dataset[1][Q_point_indices]\n",
    "T_dataset = x2y_ddib_asymptotic_neighbor_dataset[0]\n",
    "\n",
    "plot_data_point(Q_dataset[3])\n",
    "plot_data_point(T_dataset[3])\n",
    "\n",
    "prob_bound_list = []\n",
    "for Q_point in Q_dataset:\n",
    "    prob_bound = cod_prob_bound(\n",
    "        T_dataset,\n",
    "        EPSILON,\n",
    "        Q_point,\n",
    "        \"euclidean\",\n",
    "        N,\n",
    "        P,\n",
    "    )\n",
    "    prob_bound_list.append(prob_bound)\n",
    "prob_bound_list = np.array(prob_bound_list)\n",
    "y2x_prob_bound = prob_bound_list.mean()\n",
    "print(f\"y -> x: P{{DMAX({N})<=(1+{EPSILON})DMIN({N})}}>={y2x_prob_bound:.4%}\")\n"
   ]
  },
  {
   "cell_type": "code",
   "execution_count": 18,
   "metadata": {},
   "outputs": [
    {
     "name": "stdout",
     "output_type": "stream",
     "text": [
      "x0->x1: P{DMAX(2)<=(1+0.25)DMIN(2)}>=0.0000%\n",
      "x1->x2: P{DMAX(2)<=(1+0.25)DMIN(2)}>=0.0000%\n",
      "x2->x3: P{DMAX(2)<=(1+0.25)DMIN(2)}>=0.0000%\n",
      "x3->x4: P{DMAX(2)<=(1+0.25)DMIN(2)}>=0.0000%\n",
      "x4->x5: P{DMAX(2)<=(1+0.25)DMIN(2)}>=0.0000%\n",
      "x5->x6: P{DMAX(2)<=(1+0.25)DMIN(2)}>=0.0000%\n",
      "x6->x7: P{DMAX(2)<=(1+0.25)DMIN(2)}>=0.0000%\n",
      "x7->x8: P{DMAX(2)<=(1+0.25)DMIN(2)}>=0.0000%\n",
      "x8->x9: P{DMAX(2)<=(1+0.25)DMIN(2)}>=0.1482%\n",
      "x9->x10: P{DMAX(2)<=(1+0.25)DMIN(2)}>=0.8540%\n",
      "x10->x11: P{DMAX(2)<=(1+0.25)DMIN(2)}>=3.2937%\n",
      "x11->x12: P{DMAX(2)<=(1+0.25)DMIN(2)}>=5.7781%\n",
      "x12->x13: P{DMAX(2)<=(1+0.25)DMIN(2)}>=9.3265%\n",
      "x13->x14: P{DMAX(2)<=(1+0.25)DMIN(2)}>=14.7150%\n",
      "x14->x15: P{DMAX(2)<=(1+0.25)DMIN(2)}>=20.4128%\n",
      "x15->x16: P{DMAX(2)<=(1+0.25)DMIN(2)}>=27.5670%\n",
      "x16->x17: P{DMAX(2)<=(1+0.25)DMIN(2)}>=32.4547%\n",
      "x17->x18: P{DMAX(2)<=(1+0.25)DMIN(2)}>=39.1900%\n",
      "x18->x19: P{DMAX(2)<=(1+0.25)DMIN(2)}>=46.2895%\n",
      "x19->x20: P{DMAX(2)<=(1+0.25)DMIN(2)}>=51.1265%\n",
      "x20->x21: P{DMAX(2)<=(1+0.25)DMIN(2)}>=56.4447%\n",
      "x21->x22: P{DMAX(2)<=(1+0.25)DMIN(2)}>=60.7724%\n",
      "x22->x23: P{DMAX(2)<=(1+0.25)DMIN(2)}>=65.0657%\n",
      "x23->x24: P{DMAX(2)<=(1+0.25)DMIN(2)}>=69.2283%\n",
      "x24->x25: P{DMAX(2)<=(1+0.25)DMIN(2)}>=71.4535%\n",
      "x25->x26: P{DMAX(2)<=(1+0.25)DMIN(2)}>=73.7413%\n",
      "x26->x27: P{DMAX(2)<=(1+0.25)DMIN(2)}>=75.6869%\n",
      "x27->x28: P{DMAX(2)<=(1+0.25)DMIN(2)}>=77.6938%\n",
      "x28->x29: P{DMAX(2)<=(1+0.25)DMIN(2)}>=78.8661%\n",
      "x29->x30: P{DMAX(2)<=(1+0.25)DMIN(2)}>=79.7981%\n",
      "x30->x31: P{DMAX(2)<=(1+0.25)DMIN(2)}>=80.2809%\n",
      "x31->x32: P{DMAX(2)<=(1+0.25)DMIN(2)}>=81.3342%\n",
      "x32->x33: P{DMAX(2)<=(1+0.25)DMIN(2)}>=82.3201%\n",
      "x33->x34: P{DMAX(2)<=(1+0.25)DMIN(2)}>=83.3125%\n",
      "x34->x35: P{DMAX(2)<=(1+0.25)DMIN(2)}>=83.2512%\n",
      "x35->x36: P{DMAX(2)<=(1+0.25)DMIN(2)}>=84.1363%\n",
      "x36->x37: P{DMAX(2)<=(1+0.25)DMIN(2)}>=84.4308%\n",
      "x37->x38: P{DMAX(2)<=(1+0.25)DMIN(2)}>=83.9657%\n",
      "x38->x39: P{DMAX(2)<=(1+0.25)DMIN(2)}>=84.0626%\n",
      "x39->x40: P{DMAX(2)<=(1+0.25)DMIN(2)}>=84.1689%\n",
      "x40->x41: P{DMAX(2)<=(1+0.25)DMIN(2)}>=84.8849%\n",
      "x41->x42: P{DMAX(2)<=(1+0.25)DMIN(2)}>=84.7079%\n",
      "x42->x43: P{DMAX(2)<=(1+0.25)DMIN(2)}>=85.2000%\n",
      "x43->x44: P{DMAX(2)<=(1+0.25)DMIN(2)}>=85.4982%\n",
      "x44->x45: P{DMAX(2)<=(1+0.25)DMIN(2)}>=85.5145%\n",
      "x45->x46: P{DMAX(2)<=(1+0.25)DMIN(2)}>=85.6663%\n",
      "x46->x47: P{DMAX(2)<=(1+0.25)DMIN(2)}>=85.2201%\n",
      "x47->x48: P{DMAX(2)<=(1+0.25)DMIN(2)}>=85.3987%\n",
      "x48->x49: P{DMAX(2)<=(1+0.25)DMIN(2)}>=86.0476%\n",
      "x49->x50: P{DMAX(2)<=(1+0.25)DMIN(2)}>=85.8926%\n",
      "x50->x51: P{DMAX(2)<=(1+0.25)DMIN(2)}>=86.3069%\n",
      "x51->x52: P{DMAX(2)<=(1+0.25)DMIN(2)}>=86.2561%\n",
      "x52->x53: P{DMAX(2)<=(1+0.25)DMIN(2)}>=86.6091%\n",
      "x53->x54: P{DMAX(2)<=(1+0.25)DMIN(2)}>=86.5943%\n",
      "x54->x55: P{DMAX(2)<=(1+0.25)DMIN(2)}>=86.7270%\n",
      "x55->x56: P{DMAX(2)<=(1+0.25)DMIN(2)}>=86.5644%\n",
      "x56->x57: P{DMAX(2)<=(1+0.25)DMIN(2)}>=86.8001%\n",
      "x57->x58: P{DMAX(2)<=(1+0.25)DMIN(2)}>=87.2985%\n",
      "x58->x59: P{DMAX(2)<=(1+0.25)DMIN(2)}>=86.5061%\n",
      "x59->x60: P{DMAX(2)<=(1+0.25)DMIN(2)}>=86.8044%\n",
      "x60->x61: P{DMAX(2)<=(1+0.25)DMIN(2)}>=86.9036%\n",
      "x61->x62: P{DMAX(2)<=(1+0.25)DMIN(2)}>=87.5321%\n",
      "x62->x63: P{DMAX(2)<=(1+0.25)DMIN(2)}>=87.2642%\n",
      "x63->x64: P{DMAX(2)<=(1+0.25)DMIN(2)}>=87.3404%\n",
      "x64->x65: P{DMAX(2)<=(1+0.25)DMIN(2)}>=87.3321%\n",
      "x65->x66: P{DMAX(2)<=(1+0.25)DMIN(2)}>=87.7241%\n",
      "x66->x67: P{DMAX(2)<=(1+0.25)DMIN(2)}>=88.4489%\n",
      "x67->x68: P{DMAX(2)<=(1+0.25)DMIN(2)}>=88.5408%\n",
      "x68->x69: P{DMAX(2)<=(1+0.25)DMIN(2)}>=88.2617%\n",
      "x69->x70: P{DMAX(2)<=(1+0.25)DMIN(2)}>=88.0414%\n",
      "x70->x71: P{DMAX(2)<=(1+0.25)DMIN(2)}>=88.1577%\n",
      "x71->x72: P{DMAX(2)<=(1+0.25)DMIN(2)}>=88.8495%\n",
      "x72->x73: P{DMAX(2)<=(1+0.25)DMIN(2)}>=88.4835%\n",
      "x73->x74: P{DMAX(2)<=(1+0.25)DMIN(2)}>=88.3971%\n",
      "x74->x75: P{DMAX(2)<=(1+0.25)DMIN(2)}>=88.5358%\n",
      "x75->x76: P{DMAX(2)<=(1+0.25)DMIN(2)}>=89.2404%\n",
      "x76->x77: P{DMAX(2)<=(1+0.25)DMIN(2)}>=88.9552%\n",
      "x77->x78: P{DMAX(2)<=(1+0.25)DMIN(2)}>=89.0727%\n",
      "x78->x79: P{DMAX(2)<=(1+0.25)DMIN(2)}>=89.3541%\n",
      "x79->x80: P{DMAX(2)<=(1+0.25)DMIN(2)}>=88.8012%\n",
      "x80->x81: P{DMAX(2)<=(1+0.25)DMIN(2)}>=88.7186%\n",
      "x81->x82: P{DMAX(2)<=(1+0.25)DMIN(2)}>=88.9665%\n",
      "x82->x83: P{DMAX(2)<=(1+0.25)DMIN(2)}>=89.5799%\n",
      "x83->x84: P{DMAX(2)<=(1+0.25)DMIN(2)}>=88.9411%\n",
      "x84->x85: P{DMAX(2)<=(1+0.25)DMIN(2)}>=89.2663%\n",
      "x85->x86: P{DMAX(2)<=(1+0.25)DMIN(2)}>=89.1741%\n",
      "x86->x87: P{DMAX(2)<=(1+0.25)DMIN(2)}>=89.1876%\n",
      "x87->x88: P{DMAX(2)<=(1+0.25)DMIN(2)}>=89.4302%\n",
      "x88->x89: P{DMAX(2)<=(1+0.25)DMIN(2)}>=88.5548%\n",
      "x89->x90: P{DMAX(2)<=(1+0.25)DMIN(2)}>=89.4275%\n",
      "x90->x91: P{DMAX(2)<=(1+0.25)DMIN(2)}>=89.1811%\n",
      "x91->x92: P{DMAX(2)<=(1+0.25)DMIN(2)}>=89.6542%\n",
      "x92->x93: P{DMAX(2)<=(1+0.25)DMIN(2)}>=89.8826%\n",
      "x93->x94: P{DMAX(2)<=(1+0.25)DMIN(2)}>=89.8747%\n",
      "x94->x95: P{DMAX(2)<=(1+0.25)DMIN(2)}>=90.3918%\n",
      "x95->x96: P{DMAX(2)<=(1+0.25)DMIN(2)}>=90.5782%\n",
      "x96->x97: P{DMAX(2)<=(1+0.25)DMIN(2)}>=89.7487%\n",
      "x97->x98: P{DMAX(2)<=(1+0.25)DMIN(2)}>=90.2251%\n",
      "x98->x99: P{DMAX(2)<=(1+0.25)DMIN(2)}>=90.1354%\n",
      "x99->x100: P{DMAX(2)<=(1+0.25)DMIN(2)}>=90.7813%\n"
     ]
    }
   ],
   "source": [
    "for t in range(DIFFUSION_STEPS):\n",
    "    for i, x in enumerate(x2y_ddib_asymptotic_neighbor_dataset[0]):\n",
    "        x_next = add_ddim_noise_at_t_step(x, t, SCHEDULER)\n",
    "        x2y_ddib_asymptotic_neighbor_dataset[1, i] = x_next\n",
    "\n",
    "    Q_dataset = x2y_ddib_asymptotic_neighbor_dataset[0][Q_point_indices]\n",
    "    T_dataset = x2y_ddib_asymptotic_neighbor_dataset[1]\n",
    "\n",
    "    prob_bound_list = []\n",
    "    for Q_point in Q_dataset:\n",
    "        prob_bound = cod_prob_bound(\n",
    "            T_dataset,\n",
    "            EPSILON,\n",
    "            Q_point,\n",
    "            \"euclidean\",\n",
    "            N,\n",
    "        )\n",
    "    prob_bound_list.append(prob_bound)\n",
    "    prob_bound_list = np.array(prob_bound_list)\n",
    "    prob_bound = prob_bound_list.mean()\n",
    "    x2g_ddim_prob_bound_list.append(prob_bound)\n",
    "\n",
    "    x2y_ddib_asymptotic_neighbor_dataset[0] = x2y_ddib_asymptotic_neighbor_dataset[1]\n",
    "\n",
    "    print(f\"x{t}->x{t+1}: P{{DMAX({N})<=(1+{EPSILON})DMIN({N})}}>={prob_bound:.4%}\")\n"
   ]
  },
  {
   "cell_type": "code",
   "execution_count": 19,
   "metadata": {},
   "outputs": [
    {
     "data": {
      "application/vnd.jupyter.widget-view+json": {
       "model_id": "3a0b67e77fa042658b2297421b47403b",
       "version_major": 2,
       "version_minor": 0
      },
      "text/plain": [
       "  0%|          | 0/1000 [00:00<?, ?it/s]"
      ]
     },
     "metadata": {},
     "output_type": "display_data"
    },
    {
     "data": {
      "image/png": "[encoded data removed]",
      "text/plain": [
       "<Figure size 640x480 with 1 Axes>"
      ]
     },
     "metadata": {},
     "output_type": "display_data"
    },
    {
     "data": {
      "image/png": "[encoded data removed]",
      "text/plain": [
       "<Figure size 640x480 with 1 Axes>"
      ]
     },
     "metadata": {},
     "output_type": "display_data"
    },
    {
     "name": "stdout",
     "output_type": "stream",
     "text": [
      "x -> g: P{DMAX(2)<=(1+0.25)DMIN(2)}>=92.0430%\n"
     ]
    }
   ],
   "source": [
    "for i in tqdm(range(len(dataset))):\n",
    "    x2y_ddib_asymptotic_neighbor_dataset[0][i] = dataset[i][0]\n",
    "\n",
    "Q_dataset = x2y_ddib_asymptotic_neighbor_dataset[0][Q_point_indices]\n",
    "T_dataset = x2y_ddib_asymptotic_neighbor_dataset[1]\n",
    "\n",
    "plot_data_point(Q_dataset[0])\n",
    "plot_data_point(T_dataset[0])\n",
    "\n",
    "prob_bound_list = []\n",
    "for Q_point in Q_dataset:\n",
    "    prob_bound = cod_prob_bound(\n",
    "        T_dataset,\n",
    "        EPSILON,\n",
    "        Q_point,\n",
    "        \"euclidean\",\n",
    "        N,\n",
    "        P,\n",
    "    )\n",
    "    prob_bound_list.append(prob_bound)\n",
    "prob_bound_list = np.array(prob_bound_list)\n",
    "x2g_prob_bound = prob_bound_list.mean()\n",
    "print(f\"x -> g: P{{DMAX({N})<=(1+{EPSILON})DMIN({N})}}>={x2g_prob_bound:.4%}\")\n"
   ]
  },
  {
   "cell_type": "code",
   "execution_count": 20,
   "metadata": {},
   "outputs": [
    {
     "data": {
      "application/vnd.jupyter.widget-view+json": {
       "model_id": "7501afb5024b4326966f194529799077",
       "version_major": 2,
       "version_minor": 0
      },
      "text/plain": [
       "  0%|          | 0/1000 [00:00<?, ?it/s]"
      ]
     },
     "metadata": {},
     "output_type": "display_data"
    }
   ],
   "source": [
    "for i in tqdm(range(len(dataset))):\n",
    "    x2y_ddib_asymptotic_neighbor_dataset[0][i] = dataset[i][1]\n"
   ]
  },
  {
   "cell_type": "code",
   "execution_count": 21,
   "metadata": {},
   "outputs": [
    {
     "name": "stdout",
     "output_type": "stream",
     "text": [
      "y1->y0: P{DMAX(2)<=(1+0.25)DMIN(2)}>=0.0000%\n",
      "y2->y1: P{DMAX(2)<=(1+0.25)DMIN(2)}>=0.0000%\n",
      "y3->y2: P{DMAX(2)<=(1+0.25)DMIN(2)}>=0.0000%\n",
      "y4->y3: P{DMAX(2)<=(1+0.25)DMIN(2)}>=0.0000%\n",
      "y5->y4: P{DMAX(2)<=(1+0.25)DMIN(2)}>=0.0000%\n",
      "y6->y5: P{DMAX(2)<=(1+0.25)DMIN(2)}>=0.0000%\n",
      "y7->y6: P{DMAX(2)<=(1+0.25)DMIN(2)}>=0.0000%\n",
      "y8->y7: P{DMAX(2)<=(1+0.25)DMIN(2)}>=0.0000%\n",
      "y9->y8: P{DMAX(2)<=(1+0.25)DMIN(2)}>=0.0000%\n",
      "y10->y9: P{DMAX(2)<=(1+0.25)DMIN(2)}>=0.0000%\n",
      "y11->y10: P{DMAX(2)<=(1+0.25)DMIN(2)}>=0.0000%\n",
      "y12->y11: P{DMAX(2)<=(1+0.25)DMIN(2)}>=0.0000%\n",
      "y13->y12: P{DMAX(2)<=(1+0.25)DMIN(2)}>=0.0000%\n",
      "y14->y13: P{DMAX(2)<=(1+0.25)DMIN(2)}>=0.3430%\n",
      "y15->y14: P{DMAX(2)<=(1+0.25)DMIN(2)}>=2.5327%\n",
      "y16->y15: P{DMAX(2)<=(1+0.25)DMIN(2)}>=6.1252%\n",
      "y17->y16: P{DMAX(2)<=(1+0.25)DMIN(2)}>=12.0532%\n",
      "y18->y17: P{DMAX(2)<=(1+0.25)DMIN(2)}>=19.6262%\n",
      "y19->y18: P{DMAX(2)<=(1+0.25)DMIN(2)}>=27.5314%\n",
      "y20->y19: P{DMAX(2)<=(1+0.25)DMIN(2)}>=32.8243%\n",
      "y21->y20: P{DMAX(2)<=(1+0.25)DMIN(2)}>=41.2314%\n",
      "y22->y21: P{DMAX(2)<=(1+0.25)DMIN(2)}>=47.6193%\n",
      "y23->y22: P{DMAX(2)<=(1+0.25)DMIN(2)}>=53.3832%\n",
      "y24->y23: P{DMAX(2)<=(1+0.25)DMIN(2)}>=60.3075%\n",
      "y25->y24: P{DMAX(2)<=(1+0.25)DMIN(2)}>=63.8543%\n",
      "y26->y25: P{DMAX(2)<=(1+0.25)DMIN(2)}>=68.4993%\n",
      "y27->y26: P{DMAX(2)<=(1+0.25)DMIN(2)}>=71.2176%\n",
      "y28->y27: P{DMAX(2)<=(1+0.25)DMIN(2)}>=74.8743%\n",
      "y29->y28: P{DMAX(2)<=(1+0.25)DMIN(2)}>=77.1056%\n",
      "y30->y29: P{DMAX(2)<=(1+0.25)DMIN(2)}>=78.6151%\n",
      "y31->y30: P{DMAX(2)<=(1+0.25)DMIN(2)}>=79.8266%\n",
      "y32->y31: P{DMAX(2)<=(1+0.25)DMIN(2)}>=80.6672%\n",
      "y33->y32: P{DMAX(2)<=(1+0.25)DMIN(2)}>=81.0891%\n",
      "y34->y33: P{DMAX(2)<=(1+0.25)DMIN(2)}>=82.2519%\n",
      "y35->y34: P{DMAX(2)<=(1+0.25)DMIN(2)}>=83.3379%\n",
      "y36->y35: P{DMAX(2)<=(1+0.25)DMIN(2)}>=84.0898%\n",
      "y37->y36: P{DMAX(2)<=(1+0.25)DMIN(2)}>=84.0293%\n",
      "y38->y37: P{DMAX(2)<=(1+0.25)DMIN(2)}>=84.2421%\n",
      "y39->y38: P{DMAX(2)<=(1+0.25)DMIN(2)}>=84.5167%\n",
      "y40->y39: P{DMAX(2)<=(1+0.25)DMIN(2)}>=84.6720%\n",
      "y41->y40: P{DMAX(2)<=(1+0.25)DMIN(2)}>=84.4126%\n",
      "y42->y41: P{DMAX(2)<=(1+0.25)DMIN(2)}>=84.8751%\n",
      "y43->y42: P{DMAX(2)<=(1+0.25)DMIN(2)}>=84.9768%\n",
      "y44->y43: P{DMAX(2)<=(1+0.25)DMIN(2)}>=85.2205%\n",
      "y45->y44: P{DMAX(2)<=(1+0.25)DMIN(2)}>=85.5819%\n",
      "y46->y45: P{DMAX(2)<=(1+0.25)DMIN(2)}>=86.0318%\n",
      "y47->y46: P{DMAX(2)<=(1+0.25)DMIN(2)}>=86.1095%\n",
      "y48->y47: P{DMAX(2)<=(1+0.25)DMIN(2)}>=86.4652%\n",
      "y49->y48: P{DMAX(2)<=(1+0.25)DMIN(2)}>=86.1250%\n",
      "y50->y49: P{DMAX(2)<=(1+0.25)DMIN(2)}>=86.2206%\n",
      "y51->y50: P{DMAX(2)<=(1+0.25)DMIN(2)}>=86.6555%\n",
      "y52->y51: P{DMAX(2)<=(1+0.25)DMIN(2)}>=85.9608%\n",
      "y53->y52: P{DMAX(2)<=(1+0.25)DMIN(2)}>=86.5963%\n",
      "y54->y53: P{DMAX(2)<=(1+0.25)DMIN(2)}>=86.5420%\n",
      "y55->y54: P{DMAX(2)<=(1+0.25)DMIN(2)}>=86.4868%\n",
      "y56->y55: P{DMAX(2)<=(1+0.25)DMIN(2)}>=86.3491%\n",
      "y57->y56: P{DMAX(2)<=(1+0.25)DMIN(2)}>=86.1344%\n",
      "y58->y57: P{DMAX(2)<=(1+0.25)DMIN(2)}>=86.3751%\n",
      "y59->y58: P{DMAX(2)<=(1+0.25)DMIN(2)}>=86.7297%\n",
      "y60->y59: P{DMAX(2)<=(1+0.25)DMIN(2)}>=87.2066%\n",
      "y61->y60: P{DMAX(2)<=(1+0.25)DMIN(2)}>=87.1331%\n",
      "y62->y61: P{DMAX(2)<=(1+0.25)DMIN(2)}>=86.1482%\n",
      "y63->y62: P{DMAX(2)<=(1+0.25)DMIN(2)}>=87.2141%\n",
      "y64->y63: P{DMAX(2)<=(1+0.25)DMIN(2)}>=87.6347%\n",
      "y65->y64: P{DMAX(2)<=(1+0.25)DMIN(2)}>=87.6514%\n",
      "y66->y65: P{DMAX(2)<=(1+0.25)DMIN(2)}>=87.8221%\n",
      "y67->y66: P{DMAX(2)<=(1+0.25)DMIN(2)}>=88.0766%\n",
      "y68->y67: P{DMAX(2)<=(1+0.25)DMIN(2)}>=87.8270%\n",
      "y69->y68: P{DMAX(2)<=(1+0.25)DMIN(2)}>=88.0535%\n",
      "y70->y69: P{DMAX(2)<=(1+0.25)DMIN(2)}>=88.0490%\n",
      "y71->y70: P{DMAX(2)<=(1+0.25)DMIN(2)}>=87.5018%\n",
      "y72->y71: P{DMAX(2)<=(1+0.25)DMIN(2)}>=87.5919%\n",
      "y73->y72: P{DMAX(2)<=(1+0.25)DMIN(2)}>=88.1638%\n",
      "y74->y73: P{DMAX(2)<=(1+0.25)DMIN(2)}>=88.8240%\n",
      "y75->y74: P{DMAX(2)<=(1+0.25)DMIN(2)}>=87.4664%\n",
      "y76->y75: P{DMAX(2)<=(1+0.25)DMIN(2)}>=88.2334%\n",
      "y77->y76: P{DMAX(2)<=(1+0.25)DMIN(2)}>=88.8430%\n",
      "y78->y77: P{DMAX(2)<=(1+0.25)DMIN(2)}>=88.5615%\n",
      "y79->y78: P{DMAX(2)<=(1+0.25)DMIN(2)}>=88.8890%\n",
      "y80->y79: P{DMAX(2)<=(1+0.25)DMIN(2)}>=88.7190%\n",
      "y81->y80: P{DMAX(2)<=(1+0.25)DMIN(2)}>=89.0331%\n",
      "y82->y81: P{DMAX(2)<=(1+0.25)DMIN(2)}>=89.3066%\n",
      "y83->y82: P{DMAX(2)<=(1+0.25)DMIN(2)}>=89.1953%\n",
      "y84->y83: P{DMAX(2)<=(1+0.25)DMIN(2)}>=89.5558%\n",
      "y85->y84: P{DMAX(2)<=(1+0.25)DMIN(2)}>=89.0473%\n",
      "y86->y85: P{DMAX(2)<=(1+0.25)DMIN(2)}>=89.0172%\n",
      "y87->y86: P{DMAX(2)<=(1+0.25)DMIN(2)}>=89.6092%\n",
      "y88->y87: P{DMAX(2)<=(1+0.25)DMIN(2)}>=90.3130%\n",
      "y89->y88: P{DMAX(2)<=(1+0.25)DMIN(2)}>=89.2991%\n",
      "y90->y89: P{DMAX(2)<=(1+0.25)DMIN(2)}>=89.9451%\n",
      "y91->y90: P{DMAX(2)<=(1+0.25)DMIN(2)}>=89.3963%\n",
      "y92->y91: P{DMAX(2)<=(1+0.25)DMIN(2)}>=89.4685%\n",
      "y93->y92: P{DMAX(2)<=(1+0.25)DMIN(2)}>=89.9020%\n",
      "y94->y93: P{DMAX(2)<=(1+0.25)DMIN(2)}>=90.2361%\n",
      "y95->y94: P{DMAX(2)<=(1+0.25)DMIN(2)}>=89.6583%\n",
      "y96->y95: P{DMAX(2)<=(1+0.25)DMIN(2)}>=89.9119%\n",
      "y97->y96: P{DMAX(2)<=(1+0.25)DMIN(2)}>=89.9099%\n",
      "y98->y97: P{DMAX(2)<=(1+0.25)DMIN(2)}>=89.8644%\n",
      "y99->y98: P{DMAX(2)<=(1+0.25)DMIN(2)}>=89.7701%\n",
      "y100->y99: P{DMAX(2)<=(1+0.25)DMIN(2)}>=90.6145%\n"
     ]
    }
   ],
   "source": [
    "for t in range(DIFFUSION_STEPS):\n",
    "    for i, y in enumerate(x2y_ddib_asymptotic_neighbor_dataset[0]):\n",
    "        y_prev = add_ddim_noise_at_t_step(y, t, SCHEDULER)\n",
    "        x2y_ddib_asymptotic_neighbor_dataset[1, i] = y_prev\n",
    "\n",
    "    Q_dataset = x2y_ddib_asymptotic_neighbor_dataset[1][Q_point_indices]\n",
    "    T_dataset = x2y_ddib_asymptotic_neighbor_dataset[0]\n",
    "\n",
    "    prob_bound_list = []\n",
    "    for Q_point in Q_dataset:\n",
    "        prob_bound = cod_prob_bound(\n",
    "            T_dataset,\n",
    "            EPSILON,\n",
    "            Q_point,\n",
    "            \"euclidean\",\n",
    "            N,\n",
    "        )\n",
    "    prob_bound_list.append(prob_bound)\n",
    "    prob_bound_list = np.array(prob_bound_list)\n",
    "    prob_bound = prob_bound_list.mean()\n",
    "    print(f\"y{t + 1}->y{t}: P{{DMAX({N})<=(1+{EPSILON})DMIN({N})}}>={prob_bound:.4%}\")\n",
    "    g2y_ddim_prob_bound_list.insert(0, prob_bound)\n",
    "\n",
    "    x2y_ddib_asymptotic_neighbor_dataset[0] = x2y_ddib_asymptotic_neighbor_dataset[1]\n"
   ]
  },
  {
   "cell_type": "code",
   "execution_count": 22,
   "metadata": {},
   "outputs": [
    {
     "data": {
      "application/vnd.jupyter.widget-view+json": {
       "model_id": "c17892b47cca471788cb28d9218e2aee",
       "version_major": 2,
       "version_minor": 0
      },
      "text/plain": [
       "  0%|          | 0/1000 [00:00<?, ?it/s]"
      ]
     },
     "metadata": {},
     "output_type": "display_data"
    },
    {
     "data": {
      "image/png": "[encoded data removed]",
      "text/plain": [
       "<Figure size 640x480 with 1 Axes>"
      ]
     },
     "metadata": {},
     "output_type": "display_data"
    },
    {
     "data": {
      "image/png": "[encoded data removed]",
      "text/plain": [
       "<Figure size 640x480 with 1 Axes>"
      ]
     },
     "metadata": {},
     "output_type": "display_data"
    },
    {
     "name": "stdout",
     "output_type": "stream",
     "text": [
      "g -> y: P{DMAX(2)<=(1+0.25)DMIN(2)}>=73.5058%\n"
     ]
    }
   ],
   "source": [
    "for i in tqdm(range(len(dataset))):\n",
    "    x2y_ddib_asymptotic_neighbor_dataset[1][i] = dataset[i][1]\n",
    "\n",
    "Q_dataset = x2y_ddib_asymptotic_neighbor_dataset[0][Q_point_indices]\n",
    "T_dataset = x2y_ddib_asymptotic_neighbor_dataset[1]\n",
    "\n",
    "plot_data_point(Q_dataset[0])\n",
    "plot_data_point(T_dataset[0])\n",
    "\n",
    "prob_bound_list = []\n",
    "for Q_point in Q_dataset:\n",
    "    prob_bound = cod_prob_bound(\n",
    "        T_dataset,\n",
    "        EPSILON,\n",
    "        Q_point,\n",
    "        \"euclidean\",\n",
    "        N,\n",
    "        P,\n",
    "    )\n",
    "    prob_bound_list.append(prob_bound)\n",
    "prob_bound_list = np.array(prob_bound_list)\n",
    "g2y_prob_bound = prob_bound_list.mean()\n",
    "print(f\"g -> y: P{{DMAX({N})<=(1+{EPSILON})DMIN({N})}}>={g2y_prob_bound:.4%}\")\n"
   ]
  },
  {
   "cell_type": "markdown",
   "metadata": {},
   "source": [
    "#### Plot\n"
   ]
  },
  {
   "cell_type": "code",
   "execution_count": 24,
   "metadata": {},
   "outputs": [
    {
     "data": {
      "image/png": "[encoded data removed]",
      "text/plain": [
       "<Figure size 640x480 with 1 Axes>"
      ]
     },
     "metadata": {},
     "output_type": "display_data"
    }
   ],
   "source": [
    "plt.vlines(DIFFUSION_STEPS, 0, 1, colors=\"black\")\n",
    "\n",
    "\n",
    "plt.hlines(x2g_prob_bound, 0, DIFFUSION_STEPS, colors=\"red\")\n",
    "plt.hlines(g2y_prob_bound, DIFFUSION_STEPS, DIFFUSION_STEPS * 2, colors=\"red\")\n",
    "plt.hlines(x2y_prob_bound, 0, DIFFUSION_STEPS * 2, colors=\"red\")\n",
    "plt.hlines(y2x_prob_bound, 0, DIFFUSION_STEPS * 2, colors=\"red\")\n",
    "\n",
    "plt.scatter(0, x2self_prob_bound, c=\"pink\")\n",
    "plt.scatter(0, y2self_prob_bound, c=\"pink\")\n",
    "# plt.hlines(x2g_ddim_prob_bound, 0, mid_step, colors=\"red\")\n",
    "# plt.hlines(g2y_ddim_prob_bound, mid_step, DIFFUSION_STEPS * 2, colors=\"red\")\n",
    "\n",
    "t = np.arange(0, DIFFUSION_STEPS)\n",
    "plt.plot(t, x2g_ddim_prob_bound_list, color=\"green\", lw=1)\n",
    "plt.plot(t, x2g_ddim_prob_bound_list, color=\"green\", lw=2, alpha=0.2)\n",
    "plt.plot(t + DIFFUSION_STEPS, g2y_ddim_prob_bound_list, color=\"blue\", lw=1)\n",
    "plt.plot(t + DIFFUSION_STEPS, g2y_ddim_prob_bound_list, color=\"blue\", lw=2, alpha=0.2)\n",
    "\n",
    "\n",
    "plt.xlabel(\"t\")\n",
    "plt.ylabel(f\"Lower Bound of P{{DMAX({N})<=(1+{EPSILON})DMIN({N})}}\")\n",
    "\n",
    "plt.xlim(0, DIFFUSION_STEPS * 2 + 1)\n",
    "plt.ylim(0, 1)\n",
    "plt.margins(x=0)\n",
    "plt.title(f\"DDIB: {DATASET}, $\\epsilon$={EPSILON}, {DIFFUSION_STEPS} steps\")\n",
    "plt.show()"
   ]
  },
  {
   "cell_type": "markdown",
   "metadata": {},
   "source": []
  },
  {
   "cell_type": "markdown",
   "metadata": {},
   "source": [
    "# TODO LIST\n",
    "\n",
    "1. 数据集加载\n",
    "   - [√] FMNIST, MNIST, USPS\n",
    "   - [√] comic_faces_v1\n",
    "2. 多种渐变方式\n",
    "   - [√] 扩散(DDIM)：并无直接 X->Y 的分布转移渐变，只有 X->高斯->Y 分布。但高斯分布本身会造成严重距离聚集。\n",
    "   - [√] Flow(插值)：X->Y 分布转移渐变，纯粹生成一般随机采样高斯噪声作为 X。\n",
    "   - [] 薛定谔桥：同 Flow\n",
    "3. []CoD 概率下界计算\n",
    "   - [√] 直接\n",
    "   - [√] 逐步\n",
    "   - [] 选取节点：加噪 1000 步，选取个别节点\n",
    "4. [√]画图\n",
    "5. []级联 OT\n"
   ]
  }
 ],
 "metadata": {
  "celltoolbar": "Tags",
  "kernelspec": {
   "display_name": "Python 3 (ipykernel)",
   "language": "python",
   "name": "python3"
  },
  "language_info": {
   "codemirror_mode": {
    "name": "ipython",
    "version": 3
   },
   "file_extension": ".py",
   "mimetype": "text/x-python",
   "name": "python",
   "nbconvert_exporter": "python",
   "pygments_lexer": "ipython3",
   "version": "3.9.21"
  }
 },
 "nbformat": 4,
 "nbformat_minor": 4
}
